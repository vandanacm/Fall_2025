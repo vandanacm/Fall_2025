{
  "cells": [
    {
      "cell_type": "markdown",
      "metadata": {
        "id": "view-in-github",
        "colab_type": "text"
      },
      "source": [
        "<a href=\"https://colab.research.google.com/github/vandanacm/Fall_2025/blob/main/HW2.ipynb\" target=\"_parent\"><img src=\"https://colab.research.google.com/assets/colab-badge.svg\" alt=\"Open In Colab\"/></a>"
      ]
    },
    {
      "cell_type": "code",
      "execution_count": 10,
      "metadata": {
        "id": "mskK2B8ILezc",
        "colab": {
          "base_uri": "https://localhost:8080/"
        },
        "outputId": "ba85fa6b-b278-45f2-c7ea-6a0dd86d3093"
      },
      "outputs": [
        {
          "output_type": "stream",
          "name": "stdout",
          "text": [
            "Requirement already satisfied: gurobipy in /usr/local/lib/python3.12/dist-packages (12.0.3)\n"
          ]
        }
      ],
      "source": [
        "!pip install gurobipy\n"
      ]
    },
    {
      "cell_type": "code",
      "source": [
        import gurobipy as gp
from gurobipy import GRB

def read_graph(graph_file):
    # Open and read all lines from the graph file
    with open(graph_file, "r") as f:
        lines = f.readlines()
    # The first line contains the number of nodes
    n = int(lines[0])
    # Remaining lines contain edges, convert each line to tuple of integers
    edges = [tuple(map(int, line.split())) for line in lines[1:] if line.strip()]

    # Find the maximum node index from edges in case it exceeds n
    max_node_index = max(max(u, v) for u, v in edges) if edges else 0
    # Adjust n if needed to accommodate all node indices
    n = max(n, max_node_index)

    # Initialize adjacency list where neighbors[i] is the set of adjacent nodes to node i
    neighbors = [set() for _ in range(n)]
    # Populate adjacency list converting 1-based input nodes to 0-based indices internally
    for u, v in edges:
        neighbors[u - 1].add(v - 1)
        neighbors[v - 1].add(u - 1)
    return n, neighbors

def solve_min_dom_set(graph_file):
    # Read graph data: number of nodes and adjacency lists
    n, neighbors = read_graph(graph_file)
    # Initialize Gurobi optimization model named "min_dom_set"
    m = gp.Model("min_dom_set") 

    # Create binary decision variables x[i] indicating whether node i is in the dominating set (1) or not (0)
    x = m.addVars(n, vtype=GRB.BINARY, name="x")
    # Set objective: Minimize the total number of nodes chosen in the dominating set
    m.setObjective(gp.quicksum(x[i] for i in range(n)), GRB.MINIMIZE)

    # Add constraints: For every node j, ensure it is dominated by itself or at least one of its neighbors
    # This means sum of x[j] and x[i] for neighbors i in neighbors[j] must be at least 1
    m.addConstrs(
        (gp.quicksum([x[j]] + [x[i] for i in neighbors[j]]) >= 1 for j in range(n)),
        name="dom"
    )
    # Run the optimization solver
    m.optimize()

    # After optimization, collect nodes included in the dominating set (x[i] close to 1)
    # Convert zero-based indices back to one-based for output clarity
    dom_nodes = [i + 1 for i in range(n) if x[i].X > 0.5]
    # Print the results
    print("Minimum dominating set size:", len(dom_nodes))
    print("Dominating set nodes:", dom_nodes)
    print("Solver runtime (s):", m.Runtime)

      ],
      "metadata": {
        "id": "JQgcVNnjOynX"
      },
      "execution_count": 35,
      "outputs": []
    },
    {
      "cell_type": "markdown",
      "metadata": {
        "id": "OGQDYuUAfufp"
      },
      "source": []
    },
    {
      "cell_type": "code",
      "execution_count": 22,
      "metadata": {
        "id": "s-qamsdKfvCE",
        "colab": {
          "base_uri": "https://localhost:8080/"
        },
        "outputId": "e0d2cfdd-8757-45db-cef6-9d38522fe009"
      },
      "outputs": [
        {
          "output_type": "stream",
          "name": "stdout",
          "text": [
            "Drive already mounted at /content/drive; to attempt to forcibly remount, call drive.mount(\"/content/drive\", force_remount=True).\n"
          ]
        }
      ],
      "source": [
        "from google.colab import drive\n",
        "drive.mount('/content/drive')"
      ]
    },
    {
      "cell_type": "code",
      "execution_count": 36,
      "metadata": {
        "id": "cEdxrCy3ZMzs",
        "colab": {
          "base_uri": "https://localhost:8080/"
        },
        "outputId": "06f87ef0-218c-40b5-bc58-0f6cfdebbc94"
      },
      "outputs": [
        {
          "output_type": "stream",
          "name": "stdout",
          "text": [
            "Gurobi Optimizer version 12.0.3 build v12.0.3rc0 (linux64 - \"Ubuntu 22.04.4 LTS\")\n",
            "\n",
            "CPU model: Intel(R) Xeon(R) CPU @ 2.20GHz, instruction set [SSE2|AVX|AVX2]\n",
            "Thread count: 1 physical cores, 2 logical processors, using up to 2 threads\n",
            "\n",
            "Optimize a model with 10 rows, 10 columns and 48 nonzeros\n",
            "Model fingerprint: 0xf35d755f\n",
            "Variable types: 0 continuous, 10 integer (10 binary)\n",
            "Coefficient statistics:\n",
            "  Matrix range     [1e+00, 1e+00]\n",
            "  Objective range  [1e+00, 1e+00]\n",
            "  Bounds range     [1e+00, 1e+00]\n",
            "  RHS range        [1e+00, 1e+00]\n",
            "Found heuristic solution: objective 3.0000000\n",
            "Presolve removed 10 rows and 10 columns\n",
            "Presolve time: 0.00s\n",
            "Presolve: All rows and columns removed\n",
            "\n",
            "Explored 0 nodes (0 simplex iterations) in 0.01 seconds (0.00 work units)\n",
            "Thread count was 1 (of 2 available processors)\n",
            "\n",
            "Solution count 2: 2 3 \n",
            "\n",
            "Optimal solution found (tolerance 1.00e-04)\n",
            "Best objective 2.000000000000e+00, best bound 2.000000000000e+00, gap 0.0000%\n",
            "Minimum dominating set size: 2\n",
            "Dominating set nodes: [1, 10]\n",
            "Solver runtime (s): 0.012265205383300781\n"
          ]
        }
      ],
      "source": [
        "solve_min_dom_set(\"/content/drive/My Drive/Colab Notebooks/10 node graph.txt\")\n"
      ]
    },
    {
      "cell_type": "code",
      "execution_count": 37,
      "metadata": {
        "id": "NqEWDsaxAn08",
        "colab": {
          "base_uri": "https://localhost:8080/"
        },
        "outputId": "cc79d746-861b-4717-de21-cb8c9ea2efd1"
      },
      "outputs": [
        {
          "output_type": "stream",
          "name": "stdout",
          "text": [
            "Gurobi Optimizer version 12.0.3 build v12.0.3rc0 (linux64 - \"Ubuntu 22.04.4 LTS\")\n",
            "\n",
            "CPU model: Intel(R) Xeon(R) CPU @ 2.20GHz, instruction set [SSE2|AVX|AVX2]\n",
            "Thread count: 1 physical cores, 2 logical processors, using up to 2 threads\n",
            "\n",
            "Optimize a model with 100 rows, 100 columns and 492 nonzeros\n",
            "Model fingerprint: 0x0921b118\n",
            "Variable types: 0 continuous, 100 integer (100 binary)\n",
            "Coefficient statistics:\n",
            "  Matrix range     [1e+00, 1e+00]\n",
            "  Objective range  [1e+00, 1e+00]\n",
            "  Bounds range     [1e+00, 1e+00]\n",
            "  RHS range        [1e+00, 1e+00]\n",
            "Found heuristic solution: objective 37.0000000\n",
            "Presolve removed 43 rows and 31 columns\n",
            "Presolve time: 0.01s\n",
            "Presolved: 57 rows, 69 columns, 270 nonzeros\n",
            "Found heuristic solution: objective 36.0000000\n",
            "Variable types: 0 continuous, 69 integer (69 binary)\n",
            "Found heuristic solution: objective 34.0000000\n",
            "\n",
            "Root relaxation: objective 2.815152e+01, 74 iterations, 0.00 seconds (0.00 work units)\n",
            "\n",
            "    Nodes    |    Current Node    |     Objective Bounds      |     Work\n",
            " Expl Unexpl |  Obj  Depth IntInf | Incumbent    BestBd   Gap | It/Node Time\n",
            "\n",
            "     0     0   28.15152    0   31   34.00000   28.15152  17.2%     -    0s\n",
            "H    0     0                      32.0000000   28.15152  12.0%     -    0s\n",
            "H    0     0                      31.0000000   28.15152  9.19%     -    0s\n",
            "H    0     0                      29.0000000   28.15152  2.93%     -    0s\n",
            "     0     0   28.15152    0   31   29.00000   28.15152  2.93%     -    0s\n",
            "\n",
            "Explored 1 nodes (78 simplex iterations) in 0.04 seconds (0.00 work units)\n",
            "Thread count was 2 (of 2 available processors)\n",
            "\n",
            "Solution count 6: 29 31 32 ... 37\n",
            "\n",
            "Optimal solution found (tolerance 1.00e-04)\n",
            "Best objective 2.900000000000e+01, best bound 2.900000000000e+01, gap 0.0000%\n",
            "Minimum dominating set size: 29\n",
            "Dominating set nodes: [1, 2, 9, 11, 16, 21, 27, 30, 32, 36, 38, 39, 49, 53, 58, 60, 62, 64, 66, 69, 72, 75, 76, 78, 80, 82, 89, 94, 99]\n",
            "Solver runtime (s): 0.044647932052612305\n"
          ]
        }
      ],
      "source": [
        "solve_min_dom_set(\"/content/drive/My Drive/Colab Notebooks/100 node graph.txt\")"
      ]
    },
    {
      "cell_type": "code",
      "execution_count": 38,
      "metadata": {
        "id": "Gx-C-OcpApoe",
        "colab": {
          "base_uri": "https://localhost:8080/"
        },
        "outputId": "938210b8-6fd1-4dd6-9720-aa7fb55cc167"
      },
      "outputs": [
        {
          "output_type": "stream",
          "name": "stdout",
          "text": [
            "Gurobi Optimizer version 12.0.3 build v12.0.3rc0 (linux64 - \"Ubuntu 22.04.4 LTS\")\n",
            "\n",
            "CPU model: Intel(R) Xeon(R) CPU @ 2.20GHz, instruction set [SSE2|AVX|AVX2]\n",
            "Thread count: 1 physical cores, 2 logical processors, using up to 2 threads\n",
            "\n",
            "Optimize a model with 1000 rows, 1000 columns and 6994 nonzeros\n",
            "Model fingerprint: 0xeff5d23e\n",
            "Variable types: 0 continuous, 1000 integer (1000 binary)\n",
            "Coefficient statistics:\n",
            "  Matrix range     [1e+00, 1e+00]\n",
            "  Objective range  [1e+00, 1e+00]\n",
            "  Bounds range     [1e+00, 1e+00]\n",
            "  RHS range        [1e+00, 1e+00]\n",
            "Found heuristic solution: objective 263.0000000\n",
            "Presolve removed 126 rows and 54 columns\n",
            "Presolve time: 0.01s\n",
            "Presolved: 874 rows, 946 columns, 6138 nonzeros\n",
            "Found heuristic solution: objective 262.0000000\n",
            "Variable types: 0 continuous, 946 integer (946 binary)\n",
            "Found heuristic solution: objective 251.0000000\n",
            "\n",
            "Root relaxation: objective 1.711324e+02, 2564 iterations, 0.23 seconds (0.19 work units)\n",
            "\n",
            "    Nodes    |    Current Node    |     Objective Bounds      |     Work\n",
            " Expl Unexpl |  Obj  Depth IntInf | Incumbent    BestBd   Gap | It/Node Time\n",
            "\n",
            "     0     0  171.13241    0  461  251.00000  171.13241  31.8%     -    0s\n",
            "H    0     0                     250.0000000  171.13241  31.5%     -    0s\n",
            "H    0     0                     233.0000000  171.13241  26.6%     -    0s\n",
            "H    0     0                     223.0000000  171.13241  23.3%     -    0s\n",
            "H    0     0                     210.0000000  171.13241  18.5%     -    0s\n",
            "H    0     0                     206.0000000  171.13241  16.9%     -    0s\n",
            "H    0     0                     205.0000000  171.13241  16.5%     -    0s\n",
            "     0     0  171.27040    0  462  205.00000  171.27040  16.5%     -    0s\n",
            "H    0     0                     203.0000000  171.27040  15.6%     -    0s\n",
            "H    0     0                     202.0000000  171.27040  15.2%     -    0s\n",
            "     0     0  171.33863    0  462  202.00000  171.33863  15.2%     -    0s\n",
            "     0     0  171.35406    0  467  202.00000  171.35406  15.2%     -    1s\n",
            "     0     0  171.35751    0  465  202.00000  171.35751  15.2%     -    1s\n",
            "     0     0  171.35772    0  465  202.00000  171.35772  15.2%     -    1s\n",
            "H    0     0                     197.0000000  171.35772  13.0%     -    1s\n",
            "H    0     0                     196.0000000  171.35772  12.6%     -    1s\n",
            "H    0     0                     194.0000000  171.35772  11.7%     -    1s\n",
            "H    0     0                     193.0000000  171.35772  11.2%     -    1s\n",
            "H    0     0                     192.0000000  171.35772  10.8%     -    1s\n",
            "     0     2  171.35778    0  465  192.00000  171.35778  10.8%     -    2s\n",
            "H   26    26                     191.0000000  171.62220  10.1%   238    2s\n",
            "H   76    76                     190.0000000  171.62220  9.67%   198    3s\n",
            "H  104   104                     189.0000000  171.62220  9.19%   179    4s\n",
            "   109   111  178.94074   69  404  189.00000  171.62220  9.19%   176    5s\n",
            "H  238   238                     188.0000000  171.62220  8.71%   142    7s\n",
            "   407   399  180.02568   75  390  188.00000  171.62281  8.71%   150   10s\n",
            "H  456   431                     187.0000000  171.62281  8.22%   147   10s\n",
            "   524   498  177.53830   42  460  187.00000  171.62281  8.22%   140   15s\n",
            "   569   530  175.59530   32  436  187.00000  171.64464  8.21%   152   20s\n",
            "H  607   527                     186.0000000  171.64464  7.72%   154   22s\n",
            "   681   578  182.02569   88  356  186.00000  171.64464  7.72%   156   25s\n",
            "   752   611  174.62443   27  423  186.00000  171.64610  7.72%   159   30s\n",
            "   843   671  181.82277   72  354  186.00000  171.64610  7.72%   163   35s\n",
            "   964   743  178.55946   43  393  186.00000  171.76316  7.65%   163   40s\n",
            "  1134   833  177.25592   41  403  186.00000  171.76341  7.65%   161   45s\n",
            "  1278   914  174.59106   25  429  186.00000  172.09473  7.48%   160   50s\n",
            "  1549  1074  181.55313   68  357  186.00000  172.10547  7.47%   158   55s\n",
            "  1851  1231  176.00312   28  429  186.00000  172.17566  7.43%   155   60s\n",
            "  2015  1346  175.97719   30  405  186.00000  172.28147  7.38%   155   65s\n",
            "  2256  1572  179.31976   48  374  186.00000  172.28311  7.37%   154   70s\n",
            "  2508  1805  183.16914   74  321  186.00000  172.35526  7.34%   152   75s\n",
            "  2750  2010  175.22065   27  416  186.00000  172.37595  7.32%   151   80s\n",
            "  3041  2286  182.80088   77  349  186.00000  172.37656  7.32%   150   85s\n",
            "  3302  2523  177.85894   38  395  186.00000  172.44696  7.29%   150   90s\n",
            "  3546  2744  183.96587   86  351  186.00000  172.46423  7.28%   148   95s\n",
            "  3822  2976  172.82935   16  462  186.00000  172.47535  7.27%   147  100s\n",
            "  3977  3119  179.90167   52  383  186.00000  172.47840  7.27%   148  105s\n",
            "\n",
            "Cutting planes:\n",
            "  Gomory: 5\n",
            "  MIR: 8\n",
            "  Flow cover: 10\n",
            "  Zero half: 1\n",
            "\n",
            "Explored 4205 nodes (617905 simplex iterations) in 109.06 seconds (85.04 work units)\n",
            "Thread count was 2 (of 2 available processors)\n",
            "\n",
            "Solution count 10: 186 187 188 ... 196\n",
            "\n",
            "Solve interrupted\n",
            "Best objective 1.860000000000e+02, best bound 1.730000000000e+02, gap 6.9892%\n",
            "Minimum dominating set size: 186\n",
            "Dominating set nodes: [2, 3, 5, 17, 25, 26, 30, 32, 45, 47, 49, 50, 52, 53, 71, 76, 89, 90, 93, 95, 97, 98, 99, 110, 116, 124, 132, 134, 137, 140, 151, 154, 163, 167, 172, 177, 182, 184, 185, 186, 192, 199, 207, 219, 225, 232, 237, 251, 253, 267, 280, 289, 303, 305, 308, 323, 329, 330, 334, 340, 346, 351, 355, 360, 361, 362, 371, 372, 373, 378, 384, 385, 386, 394, 402, 406, 408, 410, 419, 420, 422, 423, 426, 435, 443, 445, 446, 453, 458, 462, 464, 468, 482, 488, 489, 493, 496, 499, 509, 511, 512, 526, 529, 530, 536, 539, 540, 544, 546, 553, 558, 561, 570, 578, 586, 593, 598, 599, 605, 616, 622, 624, 630, 634, 646, 659, 661, 671, 672, 677, 686, 688, 692, 699, 704, 705, 709, 718, 720, 736, 737, 745, 754, 764, 765, 768, 770, 772, 784, 789, 790, 796, 799, 803, 815, 824, 829, 849, 865, 869, 871, 873, 883, 885, 889, 891, 897, 904, 913, 914, 920, 923, 924, 929, 932, 935, 936, 937, 944, 947, 958, 960, 975, 986, 988, 989]\n",
            "Solver runtime (s): 109.06543684005737\n"
          ]
        }
      ],
      "source": [
        "solve_min_dom_set(\"/content/drive/My Drive/Colab Notebooks/1000 node graph.txt\")"
      ]
    }
  ],
  "metadata": {
    "colab": {
      "provenance": [],
      "gpuType": "T4",
      "include_colab_link": true
    },
    "kernelspec": {
      "display_name": "Python 3",
      "name": "python3"
    },
    "language_info": {
      "name": "python"
    },
    "accelerator": "GPU"
  },
  "nbformat": 4,
  "nbformat_minor": 0
}
