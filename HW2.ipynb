{
  "cells": [
    {
      "cell_type": "markdown",
      "metadata": {
        "id": "view-in-github",
        "colab_type": "text"
      },
      "source": [
        "<a href=\"https://colab.research.google.com/github/vandanacm/Fall_2025/blob/main/HW2.ipynb\" target=\"_parent\"><img src=\"https://colab.research.google.com/assets/colab-badge.svg\" alt=\"Open In Colab\"/></a>"
      ]
    },
    {
      "cell_type": "code",
      "execution_count": 2,
      "metadata": {
        "id": "mskK2B8ILezc",
        "colab": {
          "base_uri": "https://localhost:8080/"
        },
        "outputId": "33f788ea-5309-4be9-86ba-77545c26846f"
      },
      "outputs": [
        {
          "output_type": "stream",
          "name": "stdout",
          "text": [
            "Collecting gurobipy\n",
            "  Downloading gurobipy-12.0.3-cp312-cp312-manylinux2014_x86_64.manylinux_2_17_x86_64.whl.metadata (16 kB)\n",
            "Downloading gurobipy-12.0.3-cp312-cp312-manylinux2014_x86_64.manylinux_2_17_x86_64.whl (14.3 MB)\n",
            "\u001b[2K   \u001b[90m━━━━━━━━━━━━━━━━━━━━━━━━━━━━━━━━━━━━━━━━\u001b[0m \u001b[32m14.3/14.3 MB\u001b[0m \u001b[31m90.3 MB/s\u001b[0m eta \u001b[36m0:00:00\u001b[0m\n",
            "\u001b[?25hInstalling collected packages: gurobipy\n",
            "Successfully installed gurobipy-12.0.3\n"
          ]
        }
      ],
      "source": [
        "!pip install gurobipy\n"
      ]
    },
    {
      "cell_type": "code",
      "source": [
        "# import gurobipy as gp\n",
        "# from gurobipy import GRB\n",
        "\n",
        "# def read_graph(graph_file):\n",
        "#     with open(graph_file, \"r\") as f:\n",
        "#         lines = f.readlines()\n",
        "#     n = int(lines[0])\n",
        "#     edges = [tuple(map(int, line.split())) for line in lines[1:] if line.strip()]\n",
        "\n",
        "#     max_node_index = max(max(u, v) for u, v in edges) if edges else 0\n",
        "#     n = max(n, max_node_index + 1)\n",
        "\n",
        "#     neighbors = [set() for _ in range(n)]\n",
        "#     for u, v in edges:\n",
        "#         neighbors[u].add(v)\n",
        "#         neighbors[v].add(u)\n",
        "#     return n, neighbors\n",
        "\n",
        "# def solve_min_dom_set(graph_file, threads=4, timelimit=None):\n",
        "#     n, neighbors = read_graph(graph_file)\n",
        "#     m = gp.Model(\"min_dom_set\")\n",
        "#     m.setParam(\"OutputFlag\", 0)\n",
        "#     if timelimit:\n",
        "#         m.setParam('TimeLimit', timelimit)\n",
        "\n",
        "#     # Binary variables\n",
        "#     x = m.addVars(n, vtype=GRB.BINARY, name=\"x\")\n",
        "#     m.setObjective(gp.quicksum(x[i] for i in range(n)), GRB.MINIMIZE)\n",
        "\n",
        "#     # Vectorized constraint construction for speed\n",
        "#     for j in range(n):\n",
        "#         dom_list = [x[j]] + [x[i] for i in neighbors[j]]\n",
        "#         m.addConstr(gp.quicksum(dom_list) >= 1)\n",
        "\n",
        "#     m.optimize()\n",
        "\n",
        "#     dom_nodes = [i for i in range(n) if x[i].X > 0.5]\n",
        "#     print(\"Minimum dominating set size:\", len(dom_nodes))\n",
        "#     print(\"Dominating set nodes:\", dom_nodes)\n",
        "#     print(\"Solver runtime (s):\", m.Runtime)"
      ],
      "metadata": {
        "id": "xHG8qA7n6DaP"
      },
      "execution_count": 18,
      "outputs": []
    },
    {
      "cell_type": "code",
      "source": [
        "import gurobipy as gp\n",
        "from gurobipy import GRB\n",
        "\n",
        "def read_graph(graph_file):\n",
        "    with open(graph_file, \"r\") as f:\n",
        "        lines = f.readlines()\n",
        "    n = int(lines[0])\n",
        "    edges = [tuple(map(int, line.split())) for line in lines[1:] if line.strip()]\n",
        "\n",
        "    max_node_index = max(max(u, v) for u, v in edges) if edges else 0\n",
        "    n = max(n, max_node_index)  # Since input is 1-based, node max_node_index is max node\n",
        "\n",
        "    neighbors = [set() for _ in range(n)]\n",
        "    for u, v in edges:\n",
        "        neighbors[u - 1].add(v - 1)  # Convert to zero-based indexing internally\n",
        "        neighbors[v - 1].add(u - 1)\n",
        "    return n, neighbors\n",
        "\n",
        "def solve_min_dom_set(graph_file, threads=4, timelimit=None):\n",
        "    n, neighbors = read_graph(graph_file)\n",
        "    m = gp.Model(\"min_dom_set\")\n",
        "    m.setParam(\"OutputFlag\", 0)  # Silent output, remove if you want solver logs\n",
        "    m.setParam(\"Threads\", threads)\n",
        "    if timelimit:\n",
        "        m.setParam('TimeLimit', timelimit)\n",
        "\n",
        "    x = m.addVars(n, vtype=GRB.BINARY, name=\"x\")\n",
        "    m.setObjective(gp.quicksum(x[i] for i in range(n)), GRB.MINIMIZE)\n",
        "\n",
        "    # Efficiently add all domination constraints in bulk\n",
        "    m.addConstrs(\n",
        "        (gp.quicksum([x[j]] + [x[i] for i in neighbors[j]]) >= 1 for j in range(n)),\n",
        "        name=\"dom\"\n",
        "    )\n",
        "\n",
        "    m.optimize()\n",
        "\n",
        "    # Convert zero-based indices back to one-based for output clarity\n",
        "    dom_nodes = [i + 1 for i in range(n) if x[i].X > 0.5]\n",
        "    print(\"Minimum dominating set size:\", len(dom_nodes))\n",
        "    print(\"Dominating set nodes:\", dom_nodes)\n",
        "    print(\"Solver runtime (s):\", m.Runtime)\n",
        "\n",
        "# Example usage:\n",
        "# solve_min_dom_set(\"path_to_your_graph_file.txt\")\n"
      ],
      "metadata": {
        "id": "JQgcVNnjOynX"
      },
      "execution_count": 8,
      "outputs": []
    },
    {
      "cell_type": "markdown",
      "metadata": {
        "id": "OGQDYuUAfufp"
      },
      "source": []
    },
    {
      "cell_type": "code",
      "execution_count": 4,
      "metadata": {
        "id": "s-qamsdKfvCE",
        "colab": {
          "base_uri": "https://localhost:8080/"
        },
        "outputId": "7d970f64-a8d7-46bb-dba4-e6a4bec5f538"
      },
      "outputs": [
        {
          "output_type": "stream",
          "name": "stdout",
          "text": [
            "Mounted at /content/drive\n"
          ]
        }
      ],
      "source": [
        "from google.colab import drive\n",
        "drive.mount('/content/drive')"
      ]
    },
    {
      "cell_type": "code",
      "execution_count": 9,
      "metadata": {
        "id": "cEdxrCy3ZMzs",
        "colab": {
          "base_uri": "https://localhost:8080/"
        },
        "outputId": "88d06873-e56c-4868-86a1-69ad1ff64c6a"
      },
      "outputs": [
        {
          "output_type": "stream",
          "name": "stdout",
          "text": [
            "Minimum dominating set size: 2\n",
            "Dominating set nodes: [1, 10]\n",
            "Solver runtime (s): 0.0006289482116699219\n"
          ]
        }
      ],
      "source": [
        "solve_min_dom_set(\"/content/drive/My Drive/Colab Notebooks/10 node graph.txt\")\n"
      ]
    },
    {
      "cell_type": "code",
      "execution_count": 6,
      "metadata": {
        "id": "NqEWDsaxAn08",
        "colab": {
          "base_uri": "https://localhost:8080/"
        },
        "outputId": "456a5c9e-5f37-4173-eb4e-5432fcc224dd"
      },
      "outputs": [
        {
          "output_type": "stream",
          "name": "stdout",
          "text": [
            "Set parameter Threads to value 4\n",
            "Gurobi Optimizer version 12.0.3 build v12.0.3rc0 (linux64 - \"Ubuntu 22.04.4 LTS\")\n",
            "\n",
            "CPU model: Intel(R) Xeon(R) CPU @ 2.20GHz, instruction set [SSE2|AVX|AVX2]\n",
            "Thread count: 1 physical cores, 2 logical processors, using up to 4 threads\n",
            "\n",
            "Warning: Thread count (4) is larger than processor count (2)\n",
            "         Reduce the value of the Threads parameter to improve performance\n",
            "\n",
            "\n",
            "Non-default parameters:\n",
            "Threads  4\n",
            "\n",
            "Optimize a model with 100 rows, 100 columns and 492 nonzeros\n",
            "Model fingerprint: 0x0921b118\n",
            "Variable types: 0 continuous, 100 integer (100 binary)\n",
            "Coefficient statistics:\n",
            "  Matrix range     [1e+00, 1e+00]\n",
            "  Objective range  [1e+00, 1e+00]\n",
            "  Bounds range     [1e+00, 1e+00]\n",
            "  RHS range        [1e+00, 1e+00]\n",
            "Found heuristic solution: objective 37.0000000\n",
            "Presolve removed 43 rows and 31 columns\n",
            "Presolve time: 0.00s\n",
            "Presolved: 57 rows, 69 columns, 270 nonzeros\n",
            "Found heuristic solution: objective 36.0000000\n",
            "Variable types: 0 continuous, 69 integer (69 binary)\n",
            "Found heuristic solution: objective 34.0000000\n",
            "\n",
            "Root relaxation: objective 2.815152e+01, 74 iterations, 0.00 seconds (0.00 work units)\n",
            "\n",
            "    Nodes    |    Current Node    |     Objective Bounds      |     Work\n",
            " Expl Unexpl |  Obj  Depth IntInf | Incumbent    BestBd   Gap | It/Node Time\n",
            "\n",
            "     0     0   28.15152    0   31   34.00000   28.15152  17.2%     -    0s\n",
            "H    0     0                      32.0000000   28.15152  12.0%     -    0s\n",
            "H    0     0                      31.0000000   28.15152  9.19%     -    0s\n",
            "H    0     0                      29.0000000   28.15152  2.93%     -    0s\n",
            "     0     0   28.15152    0   31   29.00000   28.15152  2.93%     -    0s\n",
            "\n",
            "Explored 1 nodes (78 simplex iterations) in 0.04 seconds (0.00 work units)\n",
            "Thread count was 4 (of 2 available processors)\n",
            "\n",
            "Solution count 6: 29 31 32 ... 37\n",
            "\n",
            "Optimal solution found (tolerance 1.00e-04)\n",
            "Best objective 2.900000000000e+01, best bound 2.900000000000e+01, gap 0.0000%\n",
            "Minimum dominating set size: 29\n",
            "Dominating set nodes: [1, 2, 9, 11, 16, 21, 27, 30, 32, 36, 38, 39, 49, 53, 58, 60, 62, 64, 66, 69, 72, 75, 76, 78, 80, 82, 89, 94, 99]\n",
            "Solver runtime (s): 0.050512075424194336\n"
          ]
        }
      ],
      "source": [
        "solve_min_dom_set(\"/content/drive/My Drive/Colab Notebooks/100 node graph.txt\")"
      ]
    },
    {
      "cell_type": "code",
      "execution_count": 7,
      "metadata": {
        "id": "Gx-C-OcpApoe",
        "colab": {
          "base_uri": "https://localhost:8080/"
        },
        "outputId": "2b82b3f2-9e0d-439a-f206-3038cee60b67"
      },
      "outputs": [
        {
          "output_type": "stream",
          "name": "stdout",
          "text": [
            "Set parameter Threads to value 4\n",
            "Gurobi Optimizer version 12.0.3 build v12.0.3rc0 (linux64 - \"Ubuntu 22.04.4 LTS\")\n",
            "\n",
            "CPU model: Intel(R) Xeon(R) CPU @ 2.20GHz, instruction set [SSE2|AVX|AVX2]\n",
            "Thread count: 1 physical cores, 2 logical processors, using up to 4 threads\n",
            "\n",
            "Warning: Thread count (4) is larger than processor count (2)\n",
            "         Reduce the value of the Threads parameter to improve performance\n",
            "\n",
            "\n",
            "Non-default parameters:\n",
            "Threads  4\n",
            "\n",
            "Optimize a model with 1000 rows, 1000 columns and 6994 nonzeros\n",
            "Model fingerprint: 0xeff5d23e\n",
            "Variable types: 0 continuous, 1000 integer (1000 binary)\n",
            "Coefficient statistics:\n",
            "  Matrix range     [1e+00, 1e+00]\n",
            "  Objective range  [1e+00, 1e+00]\n",
            "  Bounds range     [1e+00, 1e+00]\n",
            "  RHS range        [1e+00, 1e+00]\n",
            "Found heuristic solution: objective 263.0000000\n",
            "Presolve removed 126 rows and 54 columns\n",
            "Presolve time: 0.02s\n",
            "Presolved: 874 rows, 946 columns, 6138 nonzeros\n",
            "Found heuristic solution: objective 262.0000000\n",
            "Variable types: 0 continuous, 946 integer (946 binary)\n",
            "Found heuristic solution: objective 251.0000000\n",
            "\n",
            "Root relaxation: objective 1.711324e+02, 2564 iterations, 0.25 seconds (0.19 work units)\n",
            "\n",
            "    Nodes    |    Current Node    |     Objective Bounds      |     Work\n",
            " Expl Unexpl |  Obj  Depth IntInf | Incumbent    BestBd   Gap | It/Node Time\n",
            "\n",
            "     0     0  171.13241    0  461  251.00000  171.13241  31.8%     -    0s\n",
            "H    0     0                     250.0000000  171.13241  31.5%     -    0s\n",
            "H    0     0                     233.0000000  171.13241  26.6%     -    0s\n",
            "H    0     0                     223.0000000  171.13241  23.3%     -    0s\n",
            "H    0     0                     210.0000000  171.13241  18.5%     -    0s\n",
            "H    0     0                     206.0000000  171.13241  16.9%     -    0s\n",
            "H    0     0                     205.0000000  171.13241  16.5%     -    0s\n",
            "     0     0  171.36329    0  462  205.00000  171.36329  16.4%     -    1s\n",
            "H    0     0                     203.0000000  171.36329  15.6%     -    1s\n",
            "H    0     0                     202.0000000  171.36329  15.2%     -    1s\n",
            "H    0     0                     200.0000000  171.74700  14.1%     -    2s\n",
            "     0     0  171.74700    0  462  200.00000  171.74700  14.1%     -    2s\n",
            "     0     0  171.89597    0  467  200.00000  171.89597  14.1%     -    2s\n",
            "     0     0  171.89597    0  465  200.00000  171.89597  14.1%     -    2s\n",
            "H    0     0                     199.0000000  171.89597  13.6%     -    3s\n",
            "H    0     0                     198.0000000  171.89597  13.2%     -    3s\n",
            "H    0     0                     197.0000000  171.89597  12.7%     -    3s\n",
            "H    0     0                     196.0000000  171.89597  12.3%     -    3s\n",
            "H    0     0                     195.0000000  171.89597  11.8%     -    3s\n",
            "H    0     0                     194.0000000  171.89597  11.4%     -    3s\n",
            "H    0     0                     193.0000000  171.89597  10.9%     -    3s\n",
            "H    0     0                     192.0000000  171.89597  10.5%     -    3s\n",
            "     0     2  171.89597    0  465  192.00000  171.89597  10.5%     -    3s\n",
            "    32    42  172.59693    7  463  192.00000  171.89597  10.5%   207    5s\n",
            "H   69    71                     190.0000000  171.89597  9.53%   220    6s\n",
            "H  118   128                     189.0000000  171.89597  9.05%   217    8s\n",
            "   154   164  175.03473   22  434  189.00000  171.89597  9.05%   202   10s\n",
            "H  234   238                     188.0000000  171.89597  8.57%   181   11s\n",
            "H  281   288                     187.0000000  171.89597  8.08%   175   14s\n",
            "   287   307  176.56104   38  427  187.00000  171.89597  8.08%   176   15s\n",
            "H  317   322                     186.0000000  171.89597  7.58%   176   15s\n",
            "   569   617  180.00090   88  369  186.00000  171.89597  7.58%   160   20s\n",
            "   919   910  173.08126    7  454  186.00000  171.89597  7.58%   151   25s\n",
            "  1062  1027  178.50616   70  465  186.00000  171.89597  7.58%   160   30s\n",
            "  1144  1091  174.21139   24  439  186.00000  171.89597  7.58%   167   35s\n",
            "  1234  1147  175.70646   35  426  186.00000  171.89597  7.58%   168   40s\n",
            "  1302  1192  177.46156   43  425  186.00000  171.89597  7.58%   170   45s\n",
            "  1383  1261  178.43078   51  392  186.00000  171.89597  7.58%   171   50s\n",
            "  1488  1338  180.46994   65  367  186.00000  171.89597  7.58%   171   55s\n",
            "  1667  1471  183.61601   87  331  186.00000  171.89597  7.58%   169   60s\n",
            "  1896  1560  174.56177   24  440  186.00000  171.97355  7.54%   166   65s\n",
            "  2026  1668  177.58150   39  414  186.00000  171.97355  7.54%   168   70s\n",
            "  2315  1890  181.11505   70  375  186.00000  171.97355  7.54%   165   75s\n",
            "  2686  2040  173.72748   20  444  186.00000  171.97355  7.54%   161   81s\n",
            "  2837  2132  176.42938   32  395  186.00000  171.97355  7.54%   161   85s\n",
            "  3199  2303  180.17555   53  364  186.00000  171.97355  7.54%   157   90s\n",
            "  3300  2395  180.52768   53  362  186.00000  171.97355  7.54%   156   95s\n",
            "  3470  2551  182.35574   69  337  186.00000  172.04752  7.50%   156  100s\n",
            "  3881  2828  176.86548   34  423  186.00000  172.04752  7.50%   155  106s\n",
            "  4209  3030  181.49668   58  341  186.00000  172.26507  7.38%   153  112s\n",
            "  4359  3185  184.49158   90  291  186.00000  172.38643  7.32%   152  115s\n",
            "  4645  3460  177.17648   35  392  186.00000  172.41238  7.31%   151  120s\n",
            "  5066  3843  183.53454   76  319  186.00000  172.52054  7.25%   149  127s\n",
            "  5288  4028  176.50912   33  410  186.00000  172.54236  7.24%   148  130s\n",
            "  5758  4355  181.03214   60  401  186.00000  172.58817  7.21%   146  136s\n",
            "  5942  4494  177.24694   38  403  186.00000  172.58817  7.21%   145  140s\n",
            "  6111  4674  179.54557   54  388  186.00000  172.66227  7.17%   144  145s\n",
            "  6458  5055  181.43911   69  366  186.00000  172.69161  7.16%   144  153s\n",
            "  6763  5226  181.62778   56  331  186.00000  172.70386  7.15%   143  158s\n",
            "  6957  5460  178.14339   43  397  186.00000  172.70386  7.15%   143  162s\n",
            "  7237  5723  177.72897   38  412  186.00000  172.73452  7.13%   142  166s\n",
            "  7557  5819  174.33502   23  430  186.00000  172.75800  7.12%   141  170s\n",
            "\n",
            "Explored 7653 nodes (1086743 simplex iterations) in 170.46 seconds (74.24 work units)\n",
            "Thread count was 4 (of 2 available processors)\n",
            "\n",
            "Solution count 10: 186 187 188 ... 196\n",
            "\n",
            "Solve interrupted\n",
            "Best objective 1.860000000000e+02, best bound 1.730000000000e+02, gap 6.9892%\n",
            "Minimum dominating set size: 186\n",
            "Dominating set nodes: [2, 3, 5, 6, 16, 17, 23, 33, 47, 49, 50, 71, 76, 89, 90, 97, 98, 99, 103, 110, 132, 137, 140, 151, 163, 167, 172, 182, 184, 191, 192, 207, 215, 219, 225, 232, 237, 238, 248, 251, 259, 263, 267, 279, 284, 289, 303, 308, 314, 321, 323, 329, 330, 335, 340, 351, 355, 357, 361, 371, 372, 379, 382, 384, 385, 394, 395, 406, 408, 410, 420, 422, 424, 426, 435, 437, 445, 446, 459, 460, 461, 462, 464, 468, 475, 482, 488, 495, 499, 502, 503, 508, 509, 512, 526, 546, 549, 553, 560, 561, 562, 563, 570, 578, 585, 598, 599, 610, 616, 622, 627, 646, 647, 659, 671, 672, 677, 685, 686, 688, 689, 692, 699, 705, 708, 710, 711, 718, 720, 729, 730, 737, 739, 742, 745, 752, 754, 764, 765, 766, 768, 770, 772, 784, 789, 790, 796, 802, 803, 852, 863, 865, 867, 869, 870, 871, 875, 879, 881, 883, 885, 889, 894, 904, 913, 914, 915, 920, 921, 924, 928, 932, 933, 934, 935, 936, 937, 940, 944, 947, 951, 959, 960, 975, 980, 989]\n",
            "Solver runtime (s): 170.48181700706482\n"
          ]
        }
      ],
      "source": [
        "solve_min_dom_set(\"/content/drive/My Drive/Colab Notebooks/1000 node graph.txt\")"
      ]
    }
  ],
  "metadata": {
    "colab": {
      "provenance": [],
      "gpuType": "T4",
      "include_colab_link": true
    },
    "kernelspec": {
      "display_name": "Python 3",
      "name": "python3"
    },
    "language_info": {
      "name": "python"
    },
    "accelerator": "GPU"
  },
  "nbformat": 4,
  "nbformat_minor": 0
}