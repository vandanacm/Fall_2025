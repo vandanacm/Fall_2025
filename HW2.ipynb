{
  "cells": [
    {
      "cell_type": "markdown",
      "metadata": {
        "id": "view-in-github",
        "colab_type": "text"
      },
      "source": [
        "<a href=\"https://colab.research.google.com/github/vandanacm/Fall_2025/blob/main/HW2.ipynb\" target=\"_parent\"><img src=\"https://colab.research.google.com/assets/colab-badge.svg\" alt=\"Open In Colab\"/></a>"
      ]
    },
    {
      "cell_type": "code",
      "execution_count": 1,
      "metadata": {
        "id": "mskK2B8ILezc",
        "colab": {
          "base_uri": "https://localhost:8080/"
        },
        "outputId": "9bcce028-69f7-4843-a65c-2c3c08412547"
      },
      "outputs": [
        {
          "output_type": "stream",
          "name": "stdout",
          "text": [
            "Collecting gurobipy\n",
            "  Downloading gurobipy-12.0.3-cp312-cp312-manylinux2014_x86_64.manylinux_2_17_x86_64.whl.metadata (16 kB)\n",
            "Downloading gurobipy-12.0.3-cp312-cp312-manylinux2014_x86_64.manylinux_2_17_x86_64.whl (14.3 MB)\n",
            "\u001b[2K   \u001b[90m━━━━━━━━━━━━━━━━━━━━━━━━━━━━━━━━━━━━━━━━\u001b[0m \u001b[32m14.3/14.3 MB\u001b[0m \u001b[31m69.6 MB/s\u001b[0m eta \u001b[36m0:00:00\u001b[0m\n",
            "\u001b[?25hInstalling collected packages: gurobipy\n",
            "Successfully installed gurobipy-12.0.3\n"
          ]
        }
      ],
      "source": [
        "!pip install gurobipy\n"
      ]
    },
    {
      "cell_type": "code",
      "source": [
        "import gurobipy as gp\n",
        "from gurobipy import GRB\n",
        "\n",
        "def read_graph(graph_file):\n",
        "    with open(graph_file, \"r\") as f:\n",
        "        lines = f.readlines()\n",
        "    n = int(lines[0])\n",
        "    edges = [tuple(map(int, line.split())) for line in lines[1:] if line.strip()]\n",
        "\n",
        "    max_node_index = max(max(u, v) for u, v in edges) if edges else 0\n",
        "    n = max(n, max_node_index + 1)\n",
        "\n",
        "    neighbors = [set() for _ in range(n)]\n",
        "    for u, v in edges:\n",
        "        neighbors[u].add(v)\n",
        "        neighbors[v].add(u)\n",
        "    return n, neighbors\n",
        "\n",
        "def solve_min_dom_set(graph_file, threads=4,):\n",
        "    n, neighbors = read_graph(graph_file)\n",
        "    m = gp.Model(\"min_dom_set\")\n",
        "    m.setParam(\"Threads\", threads)\n",
        "\n",
        "    # Binary variables\n",
        "    x = m.addVars(n, vtype=GRB.BINARY, name=\"x\")\n",
        "    m.setObjective(gp.quicksum(x[i] for i in range(n)), GRB.MINIMIZE)\n",
        "\n",
        "    # Vectorized constraint construction for speed\n",
        "    for j in range(n):\n",
        "        dom_list = [x[j]] + [x[i] for i in neighbors[j]]\n",
        "        m.addConstr(gp.quicksum(dom_list) >= 1)\n",
        "\n",
        "    m.optimize()\n",
        "\n",
        "    dom_nodes = [i+1 for i in range(n) if x[i].X > 0.5]\n",
        "    print(\"Minimum dominating set size:\", len(dom_nodes))\n",
        "    print(\"Dominating set nodes:\", dom_nodes)\n",
        "    print(\"Solver runtime (s):\", m.Runtime)\n"
      ],
      "metadata": {
        "id": "xHG8qA7n6DaP"
      },
      "execution_count": 15,
      "outputs": []
    },
    {
      "cell_type": "markdown",
      "metadata": {
        "id": "OGQDYuUAfufp"
      },
      "source": []
    },
    {
      "cell_type": "code",
      "execution_count": 16,
      "metadata": {
        "id": "s-qamsdKfvCE",
        "colab": {
          "base_uri": "https://localhost:8080/"
        },
        "outputId": "dcff0d91-3985-4d9c-b00f-05a1b99f3620"
      },
      "outputs": [
        {
          "output_type": "stream",
          "name": "stdout",
          "text": [
            "Drive already mounted at /content/drive; to attempt to forcibly remount, call drive.mount(\"/content/drive\", force_remount=True).\n"
          ]
        }
      ],
      "source": [
        "from google.colab import drive\n",
        "drive.mount('/content/drive')"
      ]
    },
    {
      "cell_type": "code",
      "execution_count": 17,
      "metadata": {
        "id": "cEdxrCy3ZMzs",
        "colab": {
          "base_uri": "https://localhost:8080/"
        },
        "outputId": "6a6e9927-a3ab-4040-f710-87a3f5550abf"
      },
      "outputs": [
        {
          "output_type": "stream",
          "name": "stdout",
          "text": [
            "Set parameter Threads to value 4\n",
            "Gurobi Optimizer version 12.0.3 build v12.0.3rc0 (linux64 - \"Ubuntu 22.04.4 LTS\")\n",
            "\n",
            "CPU model: Intel(R) Xeon(R) CPU @ 2.20GHz, instruction set [SSE2|AVX|AVX2]\n",
            "Thread count: 1 physical cores, 2 logical processors, using up to 4 threads\n",
            "\n",
            "Warning: Thread count (4) is larger than processor count (2)\n",
            "         Reduce the value of the Threads parameter to improve performance\n",
            "\n",
            "\n",
            "Non-default parameters:\n",
            "Threads  4\n",
            "\n",
            "Optimize a model with 11 rows, 11 columns and 49 nonzeros\n",
            "Model fingerprint: 0x3c97a903\n",
            "Variable types: 0 continuous, 11 integer (11 binary)\n",
            "Coefficient statistics:\n",
            "  Matrix range     [1e+00, 1e+00]\n",
            "  Objective range  [1e+00, 1e+00]\n",
            "  Bounds range     [1e+00, 1e+00]\n",
            "  RHS range        [1e+00, 1e+00]\n",
            "Found heuristic solution: objective 4.0000000\n",
            "Presolve removed 11 rows and 11 columns\n",
            "Presolve time: 0.00s\n",
            "Presolve: All rows and columns removed\n",
            "\n",
            "Explored 0 nodes (0 simplex iterations) in 0.01 seconds (0.00 work units)\n",
            "Thread count was 1 (of 2 available processors)\n",
            "\n",
            "Solution count 2: 3 4 \n",
            "\n",
            "Optimal solution found (tolerance 1.00e-04)\n",
            "Best objective 3.000000000000e+00, best bound 3.000000000000e+00, gap 0.0000%\n",
            "Minimum dominating set size: 3\n",
            "Dominating set nodes: [1, 2, 11]\n",
            "Solver runtime (s): 0.013813018798828125\n"
          ]
        }
      ],
      "source": [
        "solve_min_dom_set(\"/content/drive/My Drive/Colab Notebooks/10 node graph.txt\")\n"
      ]
    },
    {
      "cell_type": "code",
      "execution_count": 18,
      "metadata": {
        "id": "NqEWDsaxAn08",
        "colab": {
          "base_uri": "https://localhost:8080/"
        },
        "outputId": "20daa0a8-4fbe-4d97-b7a7-340cbaff2ba8"
      },
      "outputs": [
        {
          "output_type": "stream",
          "name": "stdout",
          "text": [
            "Set parameter Threads to value 4\n",
            "Gurobi Optimizer version 12.0.3 build v12.0.3rc0 (linux64 - \"Ubuntu 22.04.4 LTS\")\n",
            "\n",
            "CPU model: Intel(R) Xeon(R) CPU @ 2.20GHz, instruction set [SSE2|AVX|AVX2]\n",
            "Thread count: 1 physical cores, 2 logical processors, using up to 4 threads\n",
            "\n",
            "Warning: Thread count (4) is larger than processor count (2)\n",
            "         Reduce the value of the Threads parameter to improve performance\n",
            "\n",
            "\n",
            "Non-default parameters:\n",
            "Threads  4\n",
            "\n",
            "Optimize a model with 101 rows, 101 columns and 493 nonzeros\n",
            "Model fingerprint: 0x5e51cd9f\n",
            "Variable types: 0 continuous, 101 integer (101 binary)\n",
            "Coefficient statistics:\n",
            "  Matrix range     [1e+00, 1e+00]\n",
            "  Objective range  [1e+00, 1e+00]\n",
            "  Bounds range     [1e+00, 1e+00]\n",
            "  RHS range        [1e+00, 1e+00]\n",
            "Found heuristic solution: objective 38.0000000\n",
            "Presolve removed 44 rows and 32 columns\n",
            "Presolve time: 0.00s\n",
            "Presolved: 57 rows, 69 columns, 270 nonzeros\n",
            "Found heuristic solution: objective 37.0000000\n",
            "Variable types: 0 continuous, 69 integer (69 binary)\n",
            "Found heuristic solution: objective 35.0000000\n",
            "\n",
            "Root relaxation: objective 2.915152e+01, 74 iterations, 0.00 seconds (0.00 work units)\n",
            "\n",
            "    Nodes    |    Current Node    |     Objective Bounds      |     Work\n",
            " Expl Unexpl |  Obj  Depth IntInf | Incumbent    BestBd   Gap | It/Node Time\n",
            "\n",
            "     0     0   29.15152    0   31   35.00000   29.15152  16.7%     -    0s\n",
            "H    0     0                      33.0000000   29.15152  11.7%     -    0s\n",
            "H    0     0                      32.0000000   29.15152  8.90%     -    0s\n",
            "H    0     0                      30.0000000   29.15152  2.83%     -    0s\n",
            "     0     0   29.15152    0   31   30.00000   29.15152  2.83%     -    0s\n",
            "\n",
            "Explored 1 nodes (78 simplex iterations) in 0.06 seconds (0.00 work units)\n",
            "Thread count was 4 (of 2 available processors)\n",
            "\n",
            "Solution count 6: 30 32 33 ... 38\n",
            "\n",
            "Optimal solution found (tolerance 1.00e-04)\n",
            "Best objective 3.000000000000e+01, best bound 3.000000000000e+01, gap 0.0000%\n",
            "Minimum dominating set size: 30\n",
            "Dominating set nodes: [1, 2, 3, 10, 12, 17, 22, 28, 31, 33, 37, 39, 40, 50, 54, 59, 61, 63, 65, 67, 70, 73, 76, 77, 79, 81, 83, 90, 95, 100]\n",
            "Solver runtime (s): 0.07231402397155762\n"
          ]
        }
      ],
      "source": [
        "solve_min_dom_set(\"/content/drive/My Drive/Colab Notebooks/100 node graph.txt\")"
      ]
    },
    {
      "cell_type": "code",
      "execution_count": 20,
      "metadata": {
        "id": "Gx-C-OcpApoe",
        "colab": {
          "base_uri": "https://localhost:8080/"
        },
        "outputId": "51b379db-360a-4ec9-ec00-db6a7802ae15"
      },
      "outputs": [
        {
          "output_type": "stream",
          "name": "stdout",
          "text": [
            "Set parameter Threads to value 4\n",
            "Gurobi Optimizer version 12.0.3 build v12.0.3rc0 (linux64 - \"Ubuntu 22.04.4 LTS\")\n",
            "\n",
            "CPU model: Intel(R) Xeon(R) CPU @ 2.20GHz, instruction set [SSE2|AVX|AVX2]\n",
            "Thread count: 1 physical cores, 2 logical processors, using up to 4 threads\n",
            "\n",
            "Warning: Thread count (4) is larger than processor count (2)\n",
            "         Reduce the value of the Threads parameter to improve performance\n",
            "\n",
            "\n",
            "Non-default parameters:\n",
            "Threads  4\n",
            "\n",
            "Optimize a model with 1001 rows, 1001 columns and 6995 nonzeros\n",
            "Model fingerprint: 0xb6232bd8\n",
            "Variable types: 0 continuous, 1001 integer (1001 binary)\n",
            "Coefficient statistics:\n",
            "  Matrix range     [1e+00, 1e+00]\n",
            "  Objective range  [1e+00, 1e+00]\n",
            "  Bounds range     [1e+00, 1e+00]\n",
            "  RHS range        [1e+00, 1e+00]\n",
            "Found heuristic solution: objective 264.0000000\n",
            "Presolve removed 127 rows and 55 columns\n",
            "Presolve time: 0.02s\n",
            "Presolved: 874 rows, 946 columns, 6138 nonzeros\n",
            "Found heuristic solution: objective 263.0000000\n",
            "Variable types: 0 continuous, 946 integer (946 binary)\n",
            "Found heuristic solution: objective 252.0000000\n",
            "\n",
            "Root relaxation: objective 1.721324e+02, 2564 iterations, 0.23 seconds (0.19 work units)\n",
            "\n",
            "    Nodes    |    Current Node    |     Objective Bounds      |     Work\n",
            " Expl Unexpl |  Obj  Depth IntInf | Incumbent    BestBd   Gap | It/Node Time\n",
            "\n",
            "     0     0  172.13241    0  461  252.00000  172.13241  31.7%     -    0s\n",
            "H    0     0                     251.0000000  172.13241  31.4%     -    0s\n",
            "H    0     0                     234.0000000  172.13241  26.4%     -    0s\n",
            "H    0     0                     224.0000000  172.13241  23.2%     -    0s\n",
            "H    0     0                     211.0000000  172.13241  18.4%     -    0s\n",
            "H    0     0                     207.0000000  172.13241  16.8%     -    0s\n",
            "H    0     0                     206.0000000  172.13241  16.4%     -    0s\n",
            "     0     0  172.36329    0  462  206.00000  172.36329  16.3%     -    1s\n",
            "H    0     0                     204.0000000  172.36329  15.5%     -    1s\n",
            "H    0     0                     203.0000000  172.36329  15.1%     -    1s\n",
            "H    0     0                     201.0000000  172.74700  14.1%     -    2s\n",
            "     0     0  172.74700    0  462  201.00000  172.74700  14.1%     -    2s\n",
            "     0     0  172.89597    0  467  201.00000  172.89597  14.0%     -    2s\n",
            "     0     0  172.89597    0  465  201.00000  172.89597  14.0%     -    2s\n",
            "H    0     0                     200.0000000  172.89597  13.6%     -    3s\n",
            "H    0     0                     199.0000000  172.89597  13.1%     -    3s\n",
            "H    0     0                     198.0000000  172.89597  12.7%     -    3s\n",
            "H    0     0                     197.0000000  172.89597  12.2%     -    3s\n",
            "H    0     0                     196.0000000  172.89597  11.8%     -    3s\n",
            "H    0     0                     195.0000000  172.89597  11.3%     -    3s\n",
            "H    0     0                     194.0000000  172.89597  10.9%     -    3s\n",
            "H    0     0                     193.0000000  172.89597  10.4%     -    3s\n",
            "     0     2  172.89597    0  465  193.00000  172.89597  10.4%     -    3s\n",
            "    32    42  173.59693    7  463  193.00000  172.89597  10.4%   207    5s\n",
            "H   69    71                     191.0000000  172.89597  9.48%   220    5s\n",
            "H  118   128                     190.0000000  172.89597  9.00%   217    7s\n",
            "H  234   238                     189.0000000  172.89597  8.52%   181    9s\n",
            "   237   242  177.12015   31  437  189.00000  172.89597  8.52%   181   10s\n",
            "H  281   288                     188.0000000  172.89597  8.03%   175   14s\n",
            "   287   307  177.56104   38  427  188.00000  172.89597  8.03%   176   15s\n",
            "H  317   322                     187.0000000  172.89597  7.54%   176   15s\n",
            "   616   678  181.73314   92  356  187.00000  172.89597  7.54%   159   20s\n",
            "   967   954  175.02942   12  418  187.00000  172.89597  7.54%   155   25s\n",
            "  1062  1027  179.50616   70  465  187.00000  172.89597  7.54%   160   30s\n",
            "  1152  1096  175.51476   25  430  187.00000  172.89597  7.54%   167   35s\n",
            "  1254  1165  177.10417   37  421  187.00000  172.89597  7.54%   168   40s\n",
            "  1311  1207  178.27419   44  409  187.00000  172.89597  7.54%   170   45s\n",
            "  1421  1290  180.28294   56  387  187.00000  172.89597  7.54%   171   50s\n",
            "  1570  1397  182.65178   75  356  187.00000  172.89597  7.54%   170   55s\n",
            "  1707  1499  185.34964   92  332  187.00000  172.89597  7.54%   168   60s\n",
            "  1980  1623  177.60020   34  427  187.00000  172.97355  7.50%   167   65s\n",
            "  2147  1768  180.34984   53  392  187.00000  172.97355  7.50%   167   70s\n",
            "  2430  1941  183.12722   80  369  187.00000  172.97355  7.50%   163   75s\n",
            "  2754  2100  176.03760   26  424  187.00000  172.97355  7.50%   161   80s\n",
            "  3017  2356  179.60992   43  376  187.00000  172.97355  7.50%   160   87s\n",
            "  3204  2315  181.06105   53  377  187.00000  172.97355  7.50%   157   91s\n",
            "  3305  2448  181.63656   54  375  187.00000  173.04752  7.46%   156   95s\n",
            "  3652  2696  176.02637   27  430  187.00000  173.15590  7.40%   156  102s\n",
            "  3801  2807  178.37573   37  395  187.00000  173.15590  7.40%   156  105s\n",
            "  4316  3028  185.77009   99  304  187.00000  173.40252  7.27%   153  111s\n",
            "  4565  3319  178.06143   37  408  187.00000  173.40252  7.27%   152  118s\n",
            "  4723  3457  181.49289   51  369  187.00000  173.40252  7.27%   152  121s\n",
            "  5022  3688  185.85343   82  313  187.00000  173.40252  7.27%   151  127s\n",
            "  5114  3770  185.99389   81  291  187.00000  173.55332  7.19%   151  132s\n",
            "  5246  3911  174.45687   20  436  187.00000  173.58634  7.17%   151  135s\n",
            "  5669  4366  179.85006   45  417  187.00000  173.66575  7.13%   149  141s\n",
            "  5932  4487  175.47390   25  439  187.00000  173.66957  7.13%   147  145s\n",
            "  6360  4887  179.17444   37  399  187.00000  173.71213  7.11%   146  153s\n",
            "  6539  5119  175.75605   26  431  187.00000  173.71213  7.11%   146  157s\n",
            "  6795  5362  185.13617   87  350  187.00000  173.72808  7.10%   145  162s\n",
            "  7076  5541  184.27019   75  358  187.00000  173.75800  7.08%   144  166s\n",
            "  7293  5714  178.67730   36  391  187.00000  173.79657  7.06%   145  170s\n",
            "  7466  6040  181.23811   51  372  187.00000  173.80253  7.06%   145  176s\n",
            "  7818  6335  176.20427   23  441  187.00000  173.81473  7.05%   144  181s\n",
            "  8167  6579  178.33335   35  415  187.00000  173.84175  7.04%   144  185s\n",
            "  8461  6849  178.33010   31  411  187.00000  173.87337  7.02%   144  192s\n",
            "  8793  7070  175.20375   23  426  187.00000  173.88524  7.01%   144  197s\n",
            "  9054  7132  174.76866   21  435  187.00000  173.90076  7.00%   144  205s\n",
            "  9129  7286  175.60034   21  446  187.00000  173.90076  7.00%   144  211s\n",
            "  9299  7527  180.87610   46  401  187.00000  173.90076  7.00%   143  217s\n",
            "  9564  7879  185.62053   85  296  187.00000  173.94931  6.98%   144  224s\n",
            "  9985  8166  177.01310   31  414  187.00000  173.97822  6.96%   143  230s\n",
            " 10323  8687  177.64246   33  398  187.00000  174.01439  6.94%   143  238s\n",
            " 10865  9048  179.03951   41  400  187.00000  174.01820  6.94%   143  243s\n",
            " 11284  9285  181.00906   55  384  187.00000  174.03047  6.94%   142  249s\n",
            " 11553  9623  176.74328   31  427  187.00000  174.05156  6.92%   142  255s\n",
            " 11903 10005  178.86960   42  406  187.00000  174.05201  6.92%   143  260s\n",
            " 12304 10397  180.61855   51  377  187.00000  174.06072  6.92%   142  268s\n",
            " 12754 10734  185.07828   83  311  187.00000  174.06072  6.92%   142  273s\n",
            " 13166 11027  176.56249   28  422  187.00000  174.11413  6.89%   142  281s\n",
            " 13467 11312  183.00174   58  353  187.00000  174.11413  6.89%   142  287s\n",
            " 13807 11624  176.85568   26  426  187.00000  174.16481  6.86%   142  295s\n",
            " 14149 11939  185.64891   59  346  187.00000  174.17427  6.86%   142  300s\n",
            " 14528 12288  175.29849   21  449  187.00000  174.20540  6.84%   142  307s\n",
            " 14963 12669  181.65749   52  365  187.00000  174.22246  6.83%   141  313s\n",
            " 15431 13036  176.60554   27  408  187.00000  174.24134  6.82%   141  318s\n",
            " 15856 13417  183.17452   54  388  187.00000  174.25537  6.82%   141  325s\n",
            " 16301 13794  177.99018   32  427  187.00000  174.27667  6.80%   140  331s\n",
            " 16752 14133  175.19790   21  450  187.00000  174.29401  6.79%   140  338s\n",
            " 17101 14577  179.64955   40  409  187.00000  174.29472  6.79%   140  344s\n",
            " 17617 14875  185.74311   92  347  187.00000  174.29900  6.79%   140  349s\n",
            " 17997 15204  176.81946   24  423  187.00000  174.31222  6.78%   139  356s\n",
            " 18424 15495     cutoff   57       187.00000  174.34827  6.77%   139  361s\n",
            " 18765 15904  177.56784   30  424  187.00000  174.35708  6.76%   139  368s\n",
            " 19224 16191  183.44947   70  373  187.00000  174.36279  6.76%   139  374s\n",
            " 19553 16612  180.93152   49  354  187.00000  174.38668  6.75%   139  380s\n",
            " 20049 16933  180.06257   40  398  187.00000  174.39018  6.74%   139  386s\n",
            " 20406 17383  179.81602   41  396  187.00000  174.40748  6.73%   139  392s\n",
            "\n",
            "Explored 20916 nodes (2907753 simplex iterations) in 488.50 seconds (206.25 work units)\n",
            "Thread count was 4 (of 2 available processors)\n",
            "\n",
            "Solution count 10: 187 188 189 ... 197\n",
            "\n",
            "Solve interrupted\n",
            "Best objective 1.870000000000e+02, best bound 1.750000000000e+02, gap 6.4171%\n",
            "Minimum dominating set size: 187\n",
            "Dominating set nodes: [1, 3, 4, 6, 7, 17, 18, 24, 34, 48, 50, 51, 72, 77, 90, 91, 98, 99, 100, 104, 111, 133, 138, 141, 152, 164, 168, 173, 183, 185, 192, 193, 208, 216, 220, 226, 233, 238, 239, 249, 252, 260, 264, 268, 280, 285, 290, 304, 309, 315, 322, 324, 330, 331, 336, 341, 352, 356, 358, 362, 372, 373, 380, 383, 385, 386, 395, 396, 407, 409, 411, 421, 423, 425, 427, 436, 438, 446, 447, 460, 461, 462, 463, 465, 469, 476, 483, 489, 496, 500, 503, 504, 509, 510, 513, 527, 547, 550, 554, 561, 562, 563, 564, 571, 579, 586, 599, 600, 611, 617, 623, 628, 647, 648, 660, 672, 673, 678, 686, 687, 689, 690, 693, 700, 706, 709, 711, 712, 719, 721, 730, 731, 738, 740, 743, 746, 753, 755, 765, 766, 767, 769, 771, 773, 785, 790, 791, 797, 803, 804, 853, 864, 866, 868, 870, 871, 872, 876, 880, 882, 884, 886, 890, 895, 905, 914, 915, 916, 921, 922, 925, 929, 933, 934, 935, 936, 937, 938, 941, 945, 948, 952, 960, 961, 976, 981, 990]\n",
            "Solver runtime (s): 488.5173408985138\n"
          ]
        }
      ],
      "source": [
        "solve_min_dom_set(\"/content/drive/My Drive/Colab Notebooks/1000 node graph.txt\")"
      ]
    }
  ],
  "metadata": {
    "colab": {
      "provenance": [],
      "include_colab_link": true
    },
    "kernelspec": {
      "display_name": "Python 3",
      "name": "python3"
    },
    "language_info": {
      "name": "python"
    }
  },
  "nbformat": 4,
  "nbformat_minor": 0
}