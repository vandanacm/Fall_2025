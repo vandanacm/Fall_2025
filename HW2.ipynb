{
  "cells": [
    {
      "cell_type": "markdown",
      "metadata": {
        "id": "view-in-github",
        "colab_type": "text"
      },
      "source": [
        "<a href=\"https://colab.research.google.com/github/vandanacm/Fall_2025/blob/main/HW2.ipynb\" target=\"_parent\"><img src=\"https://colab.research.google.com/assets/colab-badge.svg\" alt=\"Open In Colab\"/></a>"
      ]
    },
    {
      "cell_type": "code",
      "execution_count": 10,
      "metadata": {
        "id": "mskK2B8ILezc",
        "colab": {
          "base_uri": "https://localhost:8080/"
        },
        "outputId": "ba85fa6b-b278-45f2-c7ea-6a0dd86d3093"
      },
      "outputs": [
        {
          "output_type": "stream",
          "name": "stdout",
          "text": [
            "Requirement already satisfied: gurobipy in /usr/local/lib/python3.12/dist-packages (12.0.3)\n"
          ]
        }
      ],
      "source": [
        "!pip install gurobipy\n"
      ]
    },
    {
      "cell_type": "code",
      "source": [
        "import gurobipy as gp\n",
        "from gurobipy import GRB\n",
        "\n",
        "def read_graph(graph_file):\n",
        "    with open(graph_file, \"r\") as f:\n",
        "        lines = f.readlines()\n",
        "    n = int(lines[0])\n",
        "    edges = [tuple(map(int, line.split())) for line in lines[1:] if line.strip()]\n",
        "\n",
        "    max_node_index = max(max(u, v) for u, v in edges) if edges else 0\n",
        "    n = max(n, max_node_index)\n",
        "\n",
        "    neighbors = [set() for _ in range(n)]\n",
        "    for u, v in edges:\n",
        "        neighbors[u - 1].add(v - 1)\n",
        "        neighbors[v - 1].add(u - 1)\n",
        "    return n, neighbors\n",
        "\n",
        "def solve_min_dom_set(graph_file):\n",
        "    n, neighbors = read_graph(graph_file)\n",
        "    m = gp.Model(\"min_dom_set\")\n",
        "\n",
        "    x = m.addVars(n, vtype=GRB.BINARY, name=\"x\")\n",
        "    m.setObjective(gp.quicksum(x[i] for i in range(n)), GRB.MINIMIZE)\n",
        "\n",
        "    m.addConstrs(\n",
        "        (gp.quicksum([x[j]] + [x[i] for i in neighbors[j]]) >= 1 for j in range(n)),\n",
        "        name=\"dom\"\n",
        "    )\n",
        "    m.optimize()\n",
        "\n",
        "    dom_nodes = [i + 1 for i in range(n) if x[i].X > 0.5]\n",
        "    print(\"Minimum dominating set size:\", len(dom_nodes))\n",
        "    print(\"Dominating set nodes:\", dom_nodes)\n",
        "    print(\"Solver runtime (s):\", m.Runtime)\n"
      ],
      "metadata": {
        "id": "JQgcVNnjOynX"
      },
      "execution_count": 21,
      "outputs": []
    },
    {
      "cell_type": "markdown",
      "metadata": {
        "id": "OGQDYuUAfufp"
      },
      "source": []
    },
    {
      "cell_type": "code",
      "execution_count": 22,
      "metadata": {
        "id": "s-qamsdKfvCE",
        "colab": {
          "base_uri": "https://localhost:8080/"
        },
        "outputId": "e0d2cfdd-8757-45db-cef6-9d38522fe009"
      },
      "outputs": [
        {
          "output_type": "stream",
          "name": "stdout",
          "text": [
            "Drive already mounted at /content/drive; to attempt to forcibly remount, call drive.mount(\"/content/drive\", force_remount=True).\n"
          ]
        }
      ],
      "source": [
        "from google.colab import drive\n",
        "drive.mount('/content/drive')"
      ]
    },
    {
      "cell_type": "code",
      "execution_count": 27,
      "metadata": {
        "id": "cEdxrCy3ZMzs",
        "colab": {
          "base_uri": "https://localhost:8080/"
        },
        "outputId": "3edb0f02-b353-4ba6-eb28-ea49ead9ab96"
      },
      "outputs": [
        {
          "output_type": "stream",
          "name": "stdout",
          "text": [
            "Gurobi Optimizer version 12.0.3 build v12.0.3rc0 (linux64 - \"Ubuntu 22.04.4 LTS\")\n",
            "\n",
            "CPU model: Intel(R) Xeon(R) CPU @ 2.20GHz, instruction set [SSE2|AVX|AVX2]\n",
            "Thread count: 1 physical cores, 2 logical processors, using up to 2 threads\n",
            "\n",
            "Optimize a model with 10 rows, 10 columns and 48 nonzeros\n",
            "Model fingerprint: 0xf35d755f\n",
            "Variable types: 0 continuous, 10 integer (10 binary)\n",
            "Coefficient statistics:\n",
            "  Matrix range     [1e+00, 1e+00]\n",
            "  Objective range  [1e+00, 1e+00]\n",
            "  Bounds range     [1e+00, 1e+00]\n",
            "  RHS range        [1e+00, 1e+00]\n",
            "Found heuristic solution: objective 3.0000000\n",
            "Presolve removed 10 rows and 10 columns\n",
            "Presolve time: 0.00s\n",
            "Presolve: All rows and columns removed\n",
            "\n",
            "Explored 0 nodes (0 simplex iterations) in 0.01 seconds (0.00 work units)\n",
            "Thread count was 1 (of 2 available processors)\n",
            "\n",
            "Solution count 2: 2 3 \n",
            "\n",
            "Optimal solution found (tolerance 1.00e-04)\n",
            "Best objective 2.000000000000e+00, best bound 2.000000000000e+00, gap 0.0000%\n",
            "Minimum dominating set size: 2\n",
            "Dominating set nodes: [1, 10]\n",
            "Solver runtime (s): 0.016917943954467773\n"
          ]
        }
      ],
      "source": [
        "solve_min_dom_set(\"/content/drive/My Drive/Colab Notebooks/10 node graph.txt\")\n"
      ]
    },
    {
      "cell_type": "code",
      "execution_count": 25,
      "metadata": {
        "id": "NqEWDsaxAn08",
        "colab": {
          "base_uri": "https://localhost:8080/"
        },
        "outputId": "7b6a464d-41b4-4e27-84ee-cf5520176cdf"
      },
      "outputs": [
        {
          "output_type": "stream",
          "name": "stdout",
          "text": [
            "Gurobi Optimizer version 12.0.3 build v12.0.3rc0 (linux64 - \"Ubuntu 22.04.4 LTS\")\n",
            "\n",
            "CPU model: Intel(R) Xeon(R) CPU @ 2.20GHz, instruction set [SSE2|AVX|AVX2]\n",
            "Thread count: 1 physical cores, 2 logical processors, using up to 2 threads\n",
            "\n",
            "Optimize a model with 100 rows, 100 columns and 492 nonzeros\n",
            "Model fingerprint: 0x0921b118\n",
            "Variable types: 0 continuous, 100 integer (100 binary)\n",
            "Coefficient statistics:\n",
            "  Matrix range     [1e+00, 1e+00]\n",
            "  Objective range  [1e+00, 1e+00]\n",
            "  Bounds range     [1e+00, 1e+00]\n",
            "  RHS range        [1e+00, 1e+00]\n",
            "Found heuristic solution: objective 37.0000000\n",
            "Presolve removed 43 rows and 31 columns\n",
            "Presolve time: 0.01s\n",
            "Presolved: 57 rows, 69 columns, 270 nonzeros\n",
            "Found heuristic solution: objective 36.0000000\n",
            "Variable types: 0 continuous, 69 integer (69 binary)\n",
            "Found heuristic solution: objective 34.0000000\n",
            "\n",
            "Root relaxation: objective 2.815152e+01, 74 iterations, 0.00 seconds (0.00 work units)\n",
            "\n",
            "    Nodes    |    Current Node    |     Objective Bounds      |     Work\n",
            " Expl Unexpl |  Obj  Depth IntInf | Incumbent    BestBd   Gap | It/Node Time\n",
            "\n",
            "     0     0   28.15152    0   31   34.00000   28.15152  17.2%     -    0s\n",
            "H    0     0                      32.0000000   28.15152  12.0%     -    0s\n",
            "H    0     0                      31.0000000   28.15152  9.19%     -    0s\n",
            "H    0     0                      29.0000000   28.15152  2.93%     -    0s\n",
            "     0     0   28.15152    0   31   29.00000   28.15152  2.93%     -    0s\n",
            "\n",
            "Explored 1 nodes (78 simplex iterations) in 0.04 seconds (0.00 work units)\n",
            "Thread count was 2 (of 2 available processors)\n",
            "\n",
            "Solution count 6: 29 31 32 ... 37\n",
            "\n",
            "Optimal solution found (tolerance 1.00e-04)\n",
            "Best objective 2.900000000000e+01, best bound 2.900000000000e+01, gap 0.0000%\n",
            "Minimum dominating set size: 29\n",
            "Dominating set nodes: [1, 2, 9, 11, 16, 21, 27, 30, 32, 36, 38, 39, 49, 53, 58, 60, 62, 64, 66, 69, 72, 75, 76, 78, 80, 82, 89, 94, 99]\n",
            "Solver runtime (s): 0.045224905014038086\n"
          ]
        }
      ],
      "source": [
        "solve_min_dom_set(\"/content/drive/My Drive/Colab Notebooks/100 node graph.txt\")"
      ]
    },
    {
      "cell_type": "code",
      "execution_count": 26,
      "metadata": {
        "id": "Gx-C-OcpApoe",
        "colab": {
          "base_uri": "https://localhost:8080/"
        },
        "outputId": "0ccd5fba-4102-49c3-cc4e-170758ee963a"
      },
      "outputs": [
        {
          "output_type": "stream",
          "name": "stdout",
          "text": [
            "Gurobi Optimizer version 12.0.3 build v12.0.3rc0 (linux64 - \"Ubuntu 22.04.4 LTS\")\n",
            "\n",
            "CPU model: Intel(R) Xeon(R) CPU @ 2.20GHz, instruction set [SSE2|AVX|AVX2]\n",
            "Thread count: 1 physical cores, 2 logical processors, using up to 2 threads\n",
            "\n",
            "Optimize a model with 1000 rows, 1000 columns and 6994 nonzeros\n",
            "Model fingerprint: 0xeff5d23e\n",
            "Variable types: 0 continuous, 1000 integer (1000 binary)\n",
            "Coefficient statistics:\n",
            "  Matrix range     [1e+00, 1e+00]\n",
            "  Objective range  [1e+00, 1e+00]\n",
            "  Bounds range     [1e+00, 1e+00]\n",
            "  RHS range        [1e+00, 1e+00]\n",
            "Found heuristic solution: objective 263.0000000\n",
            "Presolve removed 126 rows and 54 columns\n",
            "Presolve time: 0.02s\n",
            "Presolved: 874 rows, 946 columns, 6138 nonzeros\n",
            "Found heuristic solution: objective 262.0000000\n",
            "Variable types: 0 continuous, 946 integer (946 binary)\n",
            "Found heuristic solution: objective 251.0000000\n",
            "\n",
            "Root relaxation: objective 1.711324e+02, 2564 iterations, 0.23 seconds (0.19 work units)\n",
            "\n",
            "    Nodes    |    Current Node    |     Objective Bounds      |     Work\n",
            " Expl Unexpl |  Obj  Depth IntInf | Incumbent    BestBd   Gap | It/Node Time\n",
            "\n",
            "     0     0  171.13241    0  461  251.00000  171.13241  31.8%     -    0s\n",
            "H    0     0                     250.0000000  171.13241  31.5%     -    0s\n",
            "H    0     0                     233.0000000  171.13241  26.6%     -    0s\n",
            "H    0     0                     223.0000000  171.13241  23.3%     -    0s\n",
            "H    0     0                     210.0000000  171.13241  18.5%     -    0s\n",
            "H    0     0                     206.0000000  171.13241  16.9%     -    0s\n",
            "H    0     0                     205.0000000  171.13241  16.5%     -    0s\n",
            "     0     0  171.27040    0  462  205.00000  171.27040  16.5%     -    0s\n",
            "H    0     0                     203.0000000  171.27040  15.6%     -    0s\n",
            "H    0     0                     202.0000000  171.27040  15.2%     -    0s\n",
            "     0     0  171.33863    0  462  202.00000  171.33863  15.2%     -    0s\n",
            "     0     0  171.35406    0  467  202.00000  171.35406  15.2%     -    1s\n",
            "     0     0  171.35751    0  465  202.00000  171.35751  15.2%     -    1s\n",
            "     0     0  171.35772    0  465  202.00000  171.35772  15.2%     -    1s\n",
            "H    0     0                     197.0000000  171.35772  13.0%     -    1s\n",
            "H    0     0                     196.0000000  171.35772  12.6%     -    1s\n",
            "H    0     0                     194.0000000  171.35772  11.7%     -    1s\n",
            "H    0     0                     193.0000000  171.35772  11.2%     -    2s\n",
            "H    0     0                     192.0000000  171.35772  10.8%     -    2s\n",
            "     0     2  171.35778    0  465  192.00000  171.35778  10.8%     -    2s\n",
            "H   26    26                     191.0000000  171.62220  10.1%   238    3s\n",
            "    74    76  177.33027   42  422  191.00000  171.62220  10.1%   199    5s\n",
            "H   76    76                     190.0000000  171.62220  9.67%   198    5s\n",
            "H  104   104                     189.0000000  171.62220  9.19%   179    5s\n",
            "H  238   238                     188.0000000  171.62220  8.71%   142    7s\n",
            "   418   410  180.83050   83  375  188.00000  171.62281  8.71%   150   10s\n",
            "H  456   431                     187.0000000  171.62281  8.22%   147   10s\n",
            "   524   498  177.53830   42  460  187.00000  171.62281  8.22%   140   15s\n",
            "   557   522  174.38697   26  423  187.00000  171.64464  8.21%   150   20s\n",
            "H  607   527                     186.0000000  171.64464  7.72%   154   22s\n",
            "   683   580  182.24219   89  369  186.00000  171.64464  7.72%   156   25s\n",
            "   746   607  174.07696   24  428  186.00000  171.64610  7.72%   159   30s\n",
            "   831   663  180.73091   66  351  186.00000  171.64610  7.72%   163   35s\n",
            "   961   741  178.31515   42  392  186.00000  171.76316  7.65%   163   40s\n",
            "  1105   814  174.94467   27  431  186.00000  171.76341  7.65%   161   45s\n",
            "  1268   908  173.06682   20  444  186.00000  172.09473  7.48%   160   50s\n",
            "  1527  1059  179.71480   57  365  186.00000  172.10547  7.47%   158   55s\n",
            "  1760  1196  184.13843   71  341  186.00000  172.17373  7.43%   157   60s\n",
            "  2004  1335  175.06549   26  424  186.00000  172.28147  7.38%   155   65s\n",
            "  2231  1547  177.00408   40  402  186.00000  172.28311  7.37%   154   70s\n",
            "  2418  1715  176.92254   37  393  186.00000  172.35526  7.34%   153   75s\n",
            "  2690  1962  183.39012   74  309  186.00000  172.35738  7.33%   152   80s\n",
            "  2986  2231  179.85149   52  371  186.00000  172.37656  7.32%   151   85s\n",
            "  3218  2451  183.79800   72  300  186.00000  172.44514  7.29%   150   90s\n",
            "  3495  2693  176.88611   35  431  186.00000  172.46423  7.28%   149   95s\n",
            "  3742  2906  172.68434   16  457  186.00000  172.46999  7.27%   148  100s\n",
            "  3934  3076  177.40505   38  409  186.00000  172.47840  7.27%   147  105s\n",
            "  4178  3289  178.19716   41  401  186.00000  172.63871  7.18%   146  110s\n",
            "  4435  3510  175.96296   30  447  186.00000  172.70417  7.15%   146  115s\n",
            "  4726  3747  174.31051   25  441  186.00000  172.75193  7.12%   145  120s\n",
            "  4924  3927  177.04312   36  404  186.00000  172.76169  7.12%   145  125s\n",
            "  5096  4075  180.01687   51  423  186.00000  172.77116  7.11%   145  130s\n",
            "  5135  4106  173.33950   20  448  186.00000  172.77655  7.11%   144  135s\n",
            "  5374  4313  174.60316   23  434  186.00000  172.84598  7.07%   144  140s\n",
            "  5529  4457  175.30028   26  430  186.00000  172.85030  7.07%   144  145s\n",
            "  5775  4681  181.20059   51  403  186.00000  172.85511  7.07%   144  150s\n",
            "  6009  4892  179.93625   53  382  186.00000  172.87432  7.06%   144  155s\n",
            "  6281  5125  177.15197   36  426  186.00000  172.88141  7.05%   143  160s\n",
            "  6576  5365  176.03141   29  426  186.00000  172.89830  7.04%   142  165s\n",
            "  6857  5597  177.19992   37  420  186.00000  172.90872  7.04%   142  170s\n",
            "  7129  5847  178.85782   38  384  186.00000  172.93444  7.02%   141  175s\n",
            "  7402  6097  181.95448   66  364  186.00000  172.94982  7.02%   141  180s\n",
            "  7678  6327  173.94764   23  448  186.00000  172.95546  7.01%   140  185s\n",
            "  7873  6496  182.35986   68  370  186.00000  172.99371  6.99%   140  191s\n",
            "  8070  6664  177.83189   39  389  186.00000  172.99819  6.99%   140  195s\n",
            "  8264  6840     cutoff   79       186.00000  172.99945  6.99%   140  200s\n",
            "  8552  7075  173.28915   19  447  186.00000  173.01242  6.98%   139  205s\n",
            "  8901  7378  176.61250   33  401  186.00000  173.04652  6.96%   139  210s\n",
            "  9123  7587  180.09128   55  358  186.00000  173.04667  6.96%   139  215s\n",
            "  9444  7862  181.02253   60  395  186.00000  173.05129  6.96%   139  220s\n",
            "  9709  8083  180.45719   45  380  186.00000  173.07412  6.95%   138  225s\n",
            "  9909  8260  180.54968   57  389  186.00000  173.08529  6.94%   139  230s\n",
            " 10200  8513  178.85060   48  411  186.00000  173.09163  6.94%   138  235s\n",
            " 10203  8515  184.59133   90  465  186.00000  173.09163  6.94%   138  293s\n",
            " 10207  8518  177.09179   37  473  186.00000  173.09163  6.94%   138  295s\n",
            " 10208  8518  181.23806   53  471  186.00000  173.09163  6.94%   138  300s\n",
            " 10212  8521  179.15343   52  479  186.00000  173.09163  6.94%   138  306s\n",
            " 10215  8523  181.72322   74  468  186.00000  173.09163  6.94%   138  311s\n",
            " 10220  8526  183.65269   67  464  186.00000  173.09163  6.94%   138  317s\n",
            " 10222  8528  179.77545   42  471  186.00000  173.09163  6.94%   138  320s\n",
            " 10224  8529  179.34432   43  471  186.00000  173.09163  6.94%   138  326s\n",
            " 10226  8530  176.84663   33  469  186.00000  173.09163  6.94%   138  330s\n",
            " 10229  8532  178.54466   43  472  186.00000  173.09163  6.94%   138  335s\n",
            " 10232  8534  184.35222   84  470  186.00000  173.09163  6.94%   138  340s\n",
            " 10235  8536  173.69169   23  469  186.00000  173.09163  6.94%   138  345s\n",
            " 10239  8539  182.45571   66  479  186.00000  173.09163  6.94%   138  351s\n",
            " 10240  8540  181.32056   64  477  186.00000  173.09163  6.94%   138  355s\n",
            " 10243  8542  179.18184   43  476  186.00000  173.09163  6.94%   138  360s\n",
            " 10246  8544  181.54060   65  478  186.00000  173.09163  6.94%   138  365s\n",
            " 10250  8546  184.46633  100  481  186.00000  173.09163  6.94%   138  370s\n",
            " 10253  8548  182.45995   72  480  186.00000  173.09163  6.94%   138  375s\n",
            " 10256  8550  182.20630   67  480  186.00000  173.09163  6.94%   138  381s\n",
            " 10265  8556  178.01310   40  480  186.00000  173.09163  6.94%   138  385s\n",
            " 10273  8564  173.09163   25  474  186.00000  173.09163  6.94%   138  396s\n",
            " 10299  8581  174.39024   38  439  186.00000  173.09163  6.94%   138  400s\n",
            " 10336  8606  178.31989   56  401  186.00000  173.09163  6.94%   139  405s\n",
            " 10380  8635  181.52013   78  324  186.00000  173.09163  6.94%   139  410s\n",
            " 10433  8660  174.44392   34  438  186.00000  173.09163  6.94%   139  415s\n",
            " 10513  8714  184.50097   74  254  186.00000  173.09163  6.94%   139  420s\n",
            " 10568  8739  176.62419   43  406  186.00000  173.09163  6.94%   140  425s\n",
            " 10664  8789  173.09163   29  442  186.00000  173.09163  6.94%   140  430s\n",
            " 10762  8855  183.34964   78  303  186.00000  173.09163  6.94%   141  435s\n",
            " 10836  8894  176.50449   45  416  186.00000  173.09163  6.94%   141  440s\n",
            " 10950  8961  173.98485   34  426  186.00000  173.09163  6.94%   142  445s\n",
            " 10989  8987  177.91829   54  409  186.00000  173.09163  6.94%   142  450s\n",
            " 11095  9042  173.09163   28  459  186.00000  173.09163  6.94%   142  455s\n",
            " 11201  9112  184.87606   81  255  186.00000  173.09163  6.94%   143  460s\n",
            " 11296  9157  182.36557   68  318  186.00000  173.09163  6.94%   143  465s\n",
            " 11398  9204  178.82205   55  376  186.00000  173.09163  6.94%   143  470s\n",
            " 11573  9305  180.55275   58  367  186.00000  173.09163  6.94%   143  475s\n",
            " 11754  9409  180.88860   60  345  186.00000  173.09163  6.94%   143  480s\n",
            " 11956  9536  183.74154   85  238  186.00000  173.09163  6.94%   144  485s\n",
            " 12192  9660  177.16178   46  410  186.00000  173.09163  6.94%   144  490s\n",
            " 12399  9779  181.04172   60  358  186.00000  173.09163  6.94%   144  495s\n",
            " 12679  9933  173.09163   29  461  186.00000  173.09163  6.94%   144  500s\n",
            " 12893 10050  175.73674   40  424  186.00000  173.09163  6.94%   144  505s\n",
            " 13005 10116  183.96333   78  296  186.00000  173.09163  6.94%   143  510s\n",
            " 13237 10240  176.05897   46  420  186.00000  173.09163  6.94%   144  515s\n",
            " 13459 10363  183.77741   70  337  186.00000  173.09163  6.94%   144  520s\n",
            " 13646 10453  181.27689   67  403  186.00000  173.09163  6.94%   144  525s\n",
            " 13771 10510  177.80838   48  434  186.00000  173.09163  6.94%   144  530s\n",
            " 13814 10530  173.09163   30  455  186.00000  173.09163  6.94%   144  535s\n",
            " 14051 10659  174.38914   37  452  186.00000  173.09163  6.94%   144  540s\n",
            " 14331 10802  174.02709   33  456  186.00000  173.09163  6.94%   143  545s\n",
            " 14531 10927  184.10343   68  361  186.00000  173.09163  6.94%   144  550s\n",
            " 14808 11061  179.71965   61  416  186.00000  173.09163  6.94%   143  555s\n",
            " 15080 11208  181.02777   68  384  186.00000  173.09163  6.94%   143  560s\n",
            " 15312 11324  184.93233   86  276  186.00000  173.09163  6.94%   143  565s\n",
            " 15565 11454  184.75469   68  408  186.00000  173.09163  6.94%   143  570s\n",
            " 15824 11580  181.51660   65  358  186.00000  173.09163  6.94%   144  575s\n",
            " 16036 11693  181.32926   66  333  186.00000  173.09163  6.94%   144  580s\n",
            " 16336 11836  175.43244   39  431  186.00000  173.09163  6.94%   143  585s\n",
            " 16600 11972  174.85392   35  460  186.00000  173.09163  6.94%   143  590s\n",
            " 16755 12065  177.83047   52  404  186.00000  173.09163  6.94%   143  595s\n",
            " 17006 12198  176.79593   49  428  186.00000  173.09163  6.94%   143  600s\n",
            " 17264 12330  174.97899   35  437  186.00000  173.11275  6.93%   143  605s\n",
            " 17495 12453  177.54478   48  398  186.00000  173.12582  6.92%   143  610s\n",
            " 17785 12613  178.53015   48  398  186.00000  173.15703  6.90%   143  615s\n",
            " 18038 12739  182.61207   75  358  186.00000  173.17158  6.90%   143  620s\n",
            " 18294 12860  182.20214   70  386  186.00000  173.19756  6.88%   143  625s\n",
            " 18574 13020  184.44845   86  307  186.00000  173.20661  6.88%   143  630s\n",
            " 18686 13072  176.03458   43  422  186.00000  173.20942  6.88%   143  638s\n",
            " 18805 13136  174.16230   33  445  186.00000  173.24819  6.86%   143  640s\n",
            " 19061 13278  181.22720   64  359  186.00000  173.26291  6.85%   143  645s\n",
            " 19311 13414  184.54528   83  304  186.00000  173.27429  6.84%   143  650s\n",
            " 19603 13560  177.38475   48  419  186.00000  173.27881  6.84%   143  655s\n",
            " 19872 13714  182.84851   62  362  186.00000  173.28631  6.84%   143  660s\n",
            " 20096 13814  174.51462   34  430  186.00000  173.29924  6.83%   143  665s\n",
            " 20374 13967  174.27871   33  447  186.00000  173.30454  6.83%   143  670s\n",
            " 20624 14104  180.45950   65  365  186.00000  173.30996  6.82%   143  675s\n",
            "\n",
            "Cutting planes:\n",
            "  Gomory: 15\n",
            "  MIR: 7\n",
            "  Flow cover: 21\n",
            "  Zero half: 13\n",
            "\n",
            "Explored 20726 nodes (2965744 simplex iterations) in 677.97 seconds (529.72 work units)\n",
            "Thread count was 2 (of 2 available processors)\n",
            "\n",
            "Solution count 10: 186 187 188 ... 196\n",
            "\n",
            "Solve interrupted\n",
            "Best objective 1.860000000000e+02, best bound 1.740000000000e+02, gap 6.4516%\n",
            "Minimum dominating set size: 186\n",
            "Dominating set nodes: [2, 3, 5, 17, 25, 26, 30, 32, 45, 47, 49, 50, 52, 53, 71, 76, 89, 90, 93, 95, 97, 98, 99, 110, 116, 124, 132, 134, 137, 140, 151, 154, 163, 167, 172, 177, 182, 184, 185, 186, 192, 199, 207, 219, 225, 232, 237, 251, 253, 267, 280, 289, 303, 305, 308, 323, 329, 330, 334, 340, 346, 351, 355, 360, 361, 362, 371, 372, 373, 378, 384, 385, 386, 394, 402, 406, 408, 410, 419, 420, 422, 423, 426, 435, 443, 445, 446, 453, 458, 462, 464, 468, 482, 488, 489, 493, 496, 499, 509, 511, 512, 526, 529, 530, 536, 539, 540, 544, 546, 553, 558, 561, 570, 578, 586, 593, 598, 599, 605, 616, 622, 624, 630, 634, 646, 659, 661, 671, 672, 677, 686, 688, 692, 699, 704, 705, 709, 718, 720, 736, 737, 745, 754, 764, 765, 768, 770, 772, 784, 789, 790, 796, 799, 803, 815, 824, 829, 849, 865, 869, 871, 873, 883, 885, 889, 891, 897, 904, 913, 914, 920, 923, 924, 929, 932, 935, 936, 937, 944, 947, 958, 960, 975, 986, 988, 989]\n",
            "Solver runtime (s): 677.9758970737457\n"
          ]
        }
      ],
      "source": [
        "solve_min_dom_set(\"/content/drive/My Drive/Colab Notebooks/1000 node graph.txt\")"
      ]
    }
  ],
  "metadata": {
    "colab": {
      "provenance": [],
      "gpuType": "T4",
      "include_colab_link": true
    },
    "kernelspec": {
      "display_name": "Python 3",
      "name": "python3"
    },
    "language_info": {
      "name": "python"
    },
    "accelerator": "GPU"
  },
  "nbformat": 4,
  "nbformat_minor": 0
}