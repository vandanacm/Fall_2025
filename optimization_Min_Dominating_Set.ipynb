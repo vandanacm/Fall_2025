{
  "cells": [
    {
      "cell_type": "markdown",
      "metadata": {
        "id": "view-in-github",
        "colab_type": "text"
      },
      "source": [
        "<a href=\"https://colab.research.google.com/github/vandanacm/Fall_2025/blob/main/optimization_Min_Dominating_Set.ipynb\" target=\"_parent\"><img src=\"https://colab.research.google.com/assets/colab-badge.svg\" alt=\"Open In Colab\"/></a>"
      ]
    },
    {
      "cell_type": "code",
      "execution_count": 1,
      "metadata": {
        "id": "mskK2B8ILezc",
        "colab": {
          "base_uri": "https://localhost:8080/"
        },
        "outputId": "c9003e54-11f1-430b-d4b3-ca15e079ad9e"
      },
      "outputs": [
        {
          "output_type": "stream",
          "name": "stdout",
          "text": [
            "Collecting gurobipy\n",
            "  Downloading gurobipy-12.0.3-cp312-cp312-manylinux2014_x86_64.manylinux_2_17_x86_64.whl.metadata (16 kB)\n",
            "Downloading gurobipy-12.0.3-cp312-cp312-manylinux2014_x86_64.manylinux_2_17_x86_64.whl (14.3 MB)\n",
            "\u001b[2K   \u001b[90m━━━━━━━━━━━━━━━━━━━━━━━━━━━━━━━━━━━━━━━━\u001b[0m \u001b[32m14.3/14.3 MB\u001b[0m \u001b[31m58.3 MB/s\u001b[0m eta \u001b[36m0:00:00\u001b[0m\n",
            "\u001b[?25hInstalling collected packages: gurobipy\n",
            "Successfully installed gurobipy-12.0.3\n"
          ]
        }
      ],
      "source": [
        "!pip install gurobipy\n"
      ]
    },
    {
      "cell_type": "code",
      "source": [
        "import gurobipy as gp\n",
        "from gurobipy import GRB\n",
        "\n",
        "def read_graph(graph_file):\n",
        "    with open(graph_file, \"r\") as f:\n",
        "        lines = f.readlines()\n",
        "    n = int(lines[0])\n",
        "    edges = [tuple(map(int, line.split())) for line in lines[1:] if line.strip()]\n",
        "\n",
        "    max_node_index = max(max(u, v) for u, v in edges) if edges else 0\n",
        "    n = max(n, max_node_index + 1)\n",
        "\n",
        "    neighbors = [set() for _ in range(n)]\n",
        "    for u, v in edges:\n",
        "        neighbors[u].add(v)\n",
        "        neighbors[v].add(u)\n",
        "    return n, neighbors\n",
        "\n",
        "def solve_min_dom_set(graph_file, threads=4, timelimit=None):\n",
        "    n, neighbors = read_graph(graph_file)\n",
        "    m = gp.Model(\"min_dom_set\")\n",
        "    m.setParam(\"OutputFlag\", 0)\n",
        "    if timelimit:\n",
        "        m.setParam('TimeLimit', timelimit)\n",
        "\n",
        "    # Binary variables\n",
        "    x = m.addVars(n, vtype=GRB.BINARY, name=\"x\")\n",
        "    m.setObjective(gp.quicksum(x[i] for i in range(n)), GRB.MINIMIZE)\n",
        "\n",
        "    # Vectorized constraint construction for speed\n",
        "    for j in range(n):\n",
        "        dom_list = [x[j]] + [x[i] for i in neighbors[j]]\n",
        "        m.addConstr(gp.quicksum(dom_list) >= 1)\n",
        "\n",
        "    m.optimize()\n",
        "\n",
        "    dom_nodes = [i for i in range(n) if x[i].X > 0.5]\n",
        "    print(\"Minimum dominating set size:\", len(dom_nodes))\n",
        "    print(\"Dominating set nodes:\", dom_nodes)\n",
        "    print(\"Solver runtime (s):\", m.Runtime)\n"
      ],
      "metadata": {
        "id": "xHG8qA7n6DaP"
      },
      "execution_count": 2,
      "outputs": []
    },
    {
      "cell_type": "markdown",
      "metadata": {
        "id": "OGQDYuUAfufp"
      },
      "source": []
    },
    {
      "cell_type": "code",
      "execution_count": 3,
      "metadata": {
        "id": "s-qamsdKfvCE",
        "colab": {
          "base_uri": "https://localhost:8080/"
        },
        "outputId": "bf32b48d-5689-41e7-c873-7eee73f94404"
      },
      "outputs": [
        {
          "output_type": "stream",
          "name": "stdout",
          "text": [
            "Mounted at /content/drive\n"
          ]
        }
      ],
      "source": [
        "from google.colab import drive\n",
        "drive.mount('/content/drive')"
      ]
    },
    {
      "cell_type": "code",
      "execution_count": 4,
      "metadata": {
        "id": "cEdxrCy3ZMzs",
        "colab": {
          "base_uri": "https://localhost:8080/"
        },
        "outputId": "47d81bf3-25cb-4ec5-e2fd-94be3499b71c"
      },
      "outputs": [
        {
          "output_type": "stream",
          "name": "stdout",
          "text": [
            "Restricted license - for non-production use only - expires 2026-11-23\n",
            "Minimum dominating set size: 3\n",
            "Dominating set nodes: [0, 1, 10]\n",
            "Solver runtime (s): 0.00047397613525390625\n"
          ]
        }
      ],
      "source": [
        "solve_min_dom_set(\"/content/drive/My Drive/Colab Notebooks/10 node graph.txt\")\n"
      ]
    },
    {
      "cell_type": "code",
      "execution_count": 5,
      "metadata": {
        "id": "NqEWDsaxAn08",
        "colab": {
          "base_uri": "https://localhost:8080/"
        },
        "outputId": "2881ca30-db92-4553-ad99-ad10c4116596"
      },
      "outputs": [
        {
          "output_type": "stream",
          "name": "stdout",
          "text": [
            "Minimum dominating set size: 30\n",
            "Dominating set nodes: [0, 1, 2, 9, 11, 16, 21, 27, 30, 32, 36, 38, 39, 49, 53, 58, 60, 62, 64, 66, 69, 72, 75, 76, 78, 80, 82, 89, 94, 99]\n",
            "Solver runtime (s): 0.006768941879272461\n"
          ]
        }
      ],
      "source": [
        "solve_min_dom_set(\"/content/drive/My Drive/Colab Notebooks/100 node graph.txt\")"
      ]
    },
    {
      "cell_type": "code",
      "execution_count": 6,
      "metadata": {
        "id": "Gx-C-OcpApoe",
        "colab": {
          "base_uri": "https://localhost:8080/"
        },
        "outputId": "b6fc8408-4109-4858-a60e-c400dba31485"
      },
      "outputs": [
        {
          "output_type": "stream",
          "name": "stdout",
          "text": [
            "Minimum dominating set size: 185\n",
            "Dominating set nodes: [0, 2, 5, 6, 17, 28, 32, 45, 49, 61, 62, 74, 76, 79, 89, 90, 97, 98, 99, 104, 124, 125, 132, 134, 137, 145, 147, 151, 156, 163, 169, 172, 184, 187, 199, 207, 211, 214, 215, 219, 224, 237, 238, 239, 247, 248, 249, 251, 253, 259, 267, 279, 284, 302, 323, 325, 329, 330, 338, 339, 348, 351, 355, 356, 358, 360, 362, 367, 368, 371, 378, 381, 382, 384, 386, 404, 406, 418, 421, 422, 423, 435, 439, 440, 443, 447, 453, 454, 456, 458, 462, 466, 468, 471, 482, 493, 496, 499, 505, 512, 539, 543, 545, 546, 554, 561, 562, 570, 585, 586, 591, 595, 598, 605, 615, 616, 620, 629, 636, 647, 660, 664, 672, 678, 683, 686, 688, 692, 704, 705, 708, 710, 720, 730, 732, 736, 737, 745, 754, 760, 764, 765, 768, 770, 778, 784, 790, 803, 810, 815, 823, 833, 849, 850, 858, 865, 867, 869, 873, 875, 883, 885, 897, 904, 913, 914, 915, 920, 928, 929, 930, 932, 933, 936, 937, 942, 958, 960, 965, 975, 986, 988, 989, 993, 995]\n",
            "Solver runtime (s): 2008.6910300254822\n"
          ]
        }
      ],
      "source": [
        "solve_min_dom_set(\"/content/drive/My Drive/Colab Notebooks/1000 node graph.txt\")"
      ]
    }
  ],
  "metadata": {
    "colab": {
      "provenance": [],
      "include_colab_link": true
    },
    "kernelspec": {
      "display_name": "Python 3",
      "name": "python3"
    },
    "language_info": {
      "name": "python"
    }
  },
  "nbformat": 4,
  "nbformat_minor": 0
}
