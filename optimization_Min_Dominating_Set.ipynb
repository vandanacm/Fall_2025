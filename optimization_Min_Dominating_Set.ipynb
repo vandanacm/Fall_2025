{
  "cells": [
    {
      "cell_type": "markdown",
      "metadata": {
        "id": "view-in-github",
        "colab_type": "text"
      },
      "source": [
        "<a href=\"https://colab.research.google.com/github/vandanacm/Fall_2025/blob/main/optimization_Min_Dominating_Set.ipynb\" target=\"_parent\"><img src=\"https://colab.research.google.com/assets/colab-badge.svg\" alt=\"Open In Colab\"/></a>"
      ]
    },
    {
      "cell_type": "code",
      "execution_count": 10,
      "metadata": {
        "id": "mskK2B8ILezc",
        "colab": {
          "base_uri": "https://localhost:8080/"
        },
        "outputId": "ba85fa6b-b278-45f2-c7ea-6a0dd86d3093"
      },
      "outputs": [
        {
          "output_type": "stream",
          "name": "stdout",
          "text": [
            "Requirement already satisfied: gurobipy in /usr/local/lib/python3.12/dist-packages (12.0.3)\n"
          ]
        }
      ],
      "source": [
        "!pip install gurobipy\n"
      ]
    },
    {
      "cell_type": "code",
      "source": [
        "import gurobipy as gp\n",
        "from gurobipy import GRB\n",
        "\n",
        "def read_graph(graph_file):\n",
        "    with open(graph_file, \"r\") as f:\n",
        "        lines = f.readlines()\n",
        "    n = int(lines[0])\n",
        "    edges = [tuple(map(int, line.split())) for line in lines[1:] if line.strip()]\n",
        "\n",
        "    max_node_index = max(max(u, v) for u, v in edges) if edges else 0\n",
        "    n = max(n, max_node_index)\n",
        "\n",
        "    neighbors = [set() for _ in range(n)]\n",
        "    for u, v in edges:\n",
        "        neighbors[u - 1].add(v - 1)\n",
        "        neighbors[v - 1].add(u - 1)\n",
        "    return n, neighbors\n",
        "\n",
        "def solve_min_dom_set(graph_file, threads=4, timelimit=None):\n",
        "    n, neighbors = read_graph(graph_file)\n",
        "    m = gp.Model(\"min_dom_set\")\n",
        "    m.setParam(\"OutputFlag\", 0)\n",
        "    m.setParam(\"Threads\", threads)\n",
        "    if timelimit:\n",
        "        m.setParam('TimeLimit', timelimit)\n",
        "\n",
        "    x = m.addVars(n, vtype=GRB.BINARY, name=\"x\")\n",
        "    m.setObjective(gp.quicksum(x[i] for i in range(n)), GRB.MINIMIZE)\n",
        "\n",
        "    m.addConstrs(\n",
        "        (gp.quicksum([x[j]] + [x[i] for i in neighbors[j]]) >= 1 for j in range(n)),\n",
        "        name=\"dom\"\n",
        "    )\n",
        "    m.optimize()\n",
        "\n",
        "    dom_nodes = [i + 1 for i in range(n) if x[i].X > 0.5]\n",
        "    print(\"Minimum dominating set size:\", len(dom_nodes))\n",
        "    print(\"Dominating set nodes:\", dom_nodes)\n",
        "    print(\"Solver runtime (s):\", m.Runtime)\n"
      ],
      "metadata": {
        "id": "JQgcVNnjOynX"
      },
      "execution_count": 11,
      "outputs": []
    },
    {
      "cell_type": "markdown",
      "metadata": {
        "id": "OGQDYuUAfufp"
      },
      "source": []
    },
    {
      "cell_type": "code",
      "execution_count": 12,
      "metadata": {
        "id": "s-qamsdKfvCE",
        "colab": {
          "base_uri": "https://localhost:8080/"
        },
        "outputId": "9eaf43ab-6fdd-4c77-fa59-ed4f194b20b6"
      },
      "outputs": [
        {
          "output_type": "stream",
          "name": "stdout",
          "text": [
            "Drive already mounted at /content/drive; to attempt to forcibly remount, call drive.mount(\"/content/drive\", force_remount=True).\n"
          ]
        }
      ],
      "source": [
        "from google.colab import drive\n",
        "drive.mount('/content/drive')"
      ]
    },
    {
      "cell_type": "code",
      "execution_count": 13,
      "metadata": {
        "id": "cEdxrCy3ZMzs",
        "colab": {
          "base_uri": "https://localhost:8080/"
        },
        "outputId": "75aba2fa-4a1f-4efa-b4a4-449907dcbf35"
      },
      "outputs": [
        {
          "output_type": "stream",
          "name": "stdout",
          "text": [
            "Minimum dominating set size: 2\n",
            "Dominating set nodes: [1, 10]\n",
            "Solver runtime (s): 0.002599000930786133\n"
          ]
        }
      ],
      "source": [
        "solve_min_dom_set(\"/content/drive/My Drive/Colab Notebooks/10 node graph.txt\")\n"
      ]
    },
    {
      "cell_type": "code",
      "execution_count": 14,
      "metadata": {
        "id": "NqEWDsaxAn08",
        "colab": {
          "base_uri": "https://localhost:8080/"
        },
        "outputId": "c86c6faa-c388-448b-e88f-7b1f3280e96a"
      },
      "outputs": [
        {
          "output_type": "stream",
          "name": "stdout",
          "text": [
            "Minimum dominating set size: 29\n",
            "Dominating set nodes: [1, 2, 9, 11, 16, 21, 27, 30, 32, 36, 38, 39, 49, 53, 58, 60, 62, 64, 66, 69, 72, 75, 76, 78, 80, 82, 89, 94, 99]\n",
            "Solver runtime (s): 0.016139984130859375\n"
          ]
        }
      ],
      "source": [
        "solve_min_dom_set(\"/content/drive/My Drive/Colab Notebooks/100 node graph.txt\")"
      ]
    },
    {
      "cell_type": "code",
      "execution_count": 15,
      "metadata": {
        "id": "Gx-C-OcpApoe",
        "colab": {
          "base_uri": "https://localhost:8080/"
        },
        "outputId": "432de57f-59bc-4889-9a76-69524c2ec350"
      },
      "outputs": [
        {
          "output_type": "stream",
          "name": "stdout",
          "text": [
            "Minimum dominating set size: 186\n",
            "Dominating set nodes: [2, 3, 5, 6, 16, 17, 23, 33, 47, 49, 50, 71, 76, 89, 90, 97, 98, 99, 103, 110, 132, 137, 140, 151, 163, 167, 172, 182, 184, 191, 192, 207, 215, 219, 225, 232, 237, 238, 248, 251, 259, 263, 267, 279, 284, 289, 303, 308, 314, 321, 323, 329, 330, 335, 340, 351, 355, 357, 361, 371, 372, 379, 382, 384, 385, 394, 395, 406, 408, 410, 420, 422, 424, 426, 435, 437, 445, 446, 459, 460, 461, 462, 464, 468, 475, 482, 488, 495, 499, 502, 503, 508, 509, 512, 526, 546, 549, 553, 560, 561, 562, 563, 570, 578, 585, 598, 599, 610, 616, 622, 627, 646, 647, 659, 671, 672, 677, 685, 686, 688, 689, 692, 699, 705, 708, 710, 711, 718, 720, 729, 730, 737, 739, 742, 745, 752, 754, 764, 765, 766, 768, 770, 772, 784, 789, 790, 796, 802, 803, 852, 863, 865, 867, 869, 870, 871, 875, 879, 881, 883, 885, 889, 894, 904, 913, 914, 915, 920, 921, 924, 928, 932, 933, 934, 935, 936, 937, 940, 944, 947, 951, 959, 960, 975, 980, 989]\n",
            "Solver runtime (s): 35.681751012802124\n"
          ]
        }
      ],
      "source": [
        "solve_min_dom_set(\"/content/drive/My Drive/Colab Notebooks/1000 node graph.txt\")"
      ]
    }
  ],
  "metadata": {
    "colab": {
      "provenance": [],
      "gpuType": "T4",
      "include_colab_link": true
    },
    "kernelspec": {
      "display_name": "Python 3",
      "name": "python3"
    },
    "language_info": {
      "name": "python"
    },
    "accelerator": "GPU"
  },
  "nbformat": 4,
  "nbformat_minor": 0
}